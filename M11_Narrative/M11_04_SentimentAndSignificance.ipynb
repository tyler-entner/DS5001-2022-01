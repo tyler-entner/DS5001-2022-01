{
 "cells": [
  {
   "cell_type": "markdown",
   "metadata": {},
   "source": [
    "# DS 5001 Module 12 Lab: Sentiment and Significance"
   ]
  },
  {
   "cell_type": "code",
   "execution_count": 1,
   "metadata": {},
   "outputs": [],
   "source": [
    "import pandas as pd\n",
    "import numpy as np\n",
    "import sqlite3\n",
    "\n",
    "import matplotlib.pyplot as plt\n",
    "import seaborn as sns\n",
    "import plotly_express as px\n",
    "\n",
    "import scipy as sp\n",
    "import scipy.fftpack as fftpack"
   ]
  },
  {
   "cell_type": "code",
   "execution_count": 4,
   "metadata": {},
   "outputs": [],
   "source": [
    "sns.set()"
   ]
  },
  {
   "cell_type": "code",
   "execution_count": 2,
   "metadata": {},
   "outputs": [],
   "source": [
    "corpusdb = sqlite3.connect('data_out/tokens-salex.db')"
   ]
  },
  {
   "cell_type": "code",
   "execution_count": 182,
   "metadata": {},
   "outputs": [],
   "source": [
    "cfg = dict(figsize=(5,1), legend=False)"
   ]
  },
  {
   "cell_type": "code",
   "execution_count": 162,
   "metadata": {},
   "outputs": [],
   "source": [
    "def get_dct_transform(raw_values, \n",
    "                      low_pass_size=5, \n",
    "                      x_reverse_len=100,\n",
    "                      dct_type=3):\n",
    "    if low_pass_size > len(raw_values):\n",
    "        raise ValueError(\"low_pass_size must be less than or equal to the length of raw_values input vector\")\n",
    "    values_dct = fftpack.dct(raw_values, type = dct_type) # 2 or 3 works well\n",
    "    keepers = values_dct[:low_pass_size]\n",
    "    padded_keepers = list(keepers) + list(np.zeros(x_reverse_len - low_pass_size))\n",
    "    dct_out = fftpack.idct(padded_keepers)\n",
    "    return dct_out"
   ]
  },
  {
   "cell_type": "code",
   "execution_count": 178,
   "metadata": {},
   "outputs": [],
   "source": [
    "def plot_dct(X, title=None, low_pass_size=5, x_reverse_len=100, dct_type=3):\n",
    "    X = get_dct_transform(X.values, low_pass_size=low_pass_size, x_reverse_len=x_reverse_len, dct_type=dct_type)\n",
    "    X = (X - X.mean()) / X.std()\n",
    "    ax = pd.Series(X).plot(**cfg);\n",
    "#     ax.set_title(title, fontsize=14)"
   ]
  },
  {
   "cell_type": "code",
   "execution_count": 179,
   "metadata": {},
   "outputs": [],
   "source": [
    "def plot_roll(X, title=None, win_type='cosine', win_div=3, agg='mean'):\n",
    "    window = round(X.shape[0]/win_div)\n",
    "    ax = X.reset_index(drop=True).rolling(window, win_type=win_type).mean().plot(**cfg)\n",
    "#     ax.set_title(title, fontsize=14)"
   ]
  },
  {
   "cell_type": "code",
   "execution_count": 180,
   "metadata": {},
   "outputs": [],
   "source": [
    "def plot_raw(X, title=None):\n",
    "    ax = X.plot(**cfg)\n",
    "#     ax.set_title(title, fontsize=14)"
   ]
  },
  {
   "cell_type": "code",
   "execution_count": 170,
   "metadata": {},
   "outputs": [],
   "source": [
    "def get_sents(book_id, bag='sent'):\n",
    "    \n",
    "    global LIB\n",
    "    \n",
    "    print(LIB.loc[book_id].title, 'by', bag)\n",
    "    \n",
    "    ohco = ['book_id','chap_num','para_num','sent_num']\n",
    "    ohco_bag = {\n",
    "        'sent': ohco,\n",
    "        'para': ohco[:3],\n",
    "        'chap': ohco[:2]\n",
    "    }\n",
    "    \n",
    "    table = f\"tfidf_book_{bag}_am\"\n",
    "    sql_x = f\"select * from {table} left join salex using(term_str) where book_id = ?\"\n",
    "\n",
    "    dfx = pd.read_sql(sql_x, corpusdb, params=(book_id,))\n",
    "    emo_cols = dfx.columns.to_list()[-12:]        \n",
    "    dfx = dfx.set_index(ohco_bag[bag])\n",
    "    \n",
    "    # Format numbers\n",
    "    dfx[emo_cols] = dfx[emo_cols].fillna(0)\n",
    "    for col in emo_cols:\n",
    "        dfx.loc[dfx[col] == '', col] = 0.0\n",
    "        dfx[col] = dfx[col].astype('float')\n",
    "\n",
    "    # Compute nrc (why now?)\n",
    "    dfx['nrc_sentiment'] = dfx.nrc_positive - dfx.nrc_negative\n",
    "    emo_cols = emo_cols + ['nrc_sentiment']\n",
    "        \n",
    "    # Compute agg stats\n",
    "    dfx2 = dfx[emo_cols].multiply(dfx['tfidf'], axis=\"index\")\n",
    "    A = dfx.groupby(ohco_bag[bag])[emo_cols].agg(['mean','sum'])\n",
    "    B = dfx2.groupby(ohco_bag[bag])[emo_cols].agg(['mean','sum'])\n",
    "\n",
    "    # Combine dataframes\n",
    "    A = A.T.reset_index()\n",
    "    B = B.T.reset_index()\n",
    "    A['type'] = 'raw'\n",
    "    B['type'] = 'weighted'\n",
    "    A = A.set_index(['type','level_0','level_1']).T\n",
    "    B = B.set_index(['type','level_0','level_1']).T\n",
    "    C = pd.concat([A,B], 1)\n",
    "    \n",
    "    return C"
   ]
  },
  {
   "cell_type": "code",
   "execution_count": 171,
   "metadata": {},
   "outputs": [],
   "source": [
    "LIB = pd.read_sql(\"select * from lib\", corpusdb, index_col='book_id')"
   ]
  },
  {
   "cell_type": "code",
   "execution_count": 172,
   "metadata": {},
   "outputs": [
    {
     "data": {
      "text/html": [
       "<div>\n",
       "<style scoped>\n",
       "    .dataframe tbody tr th:only-of-type {\n",
       "        vertical-align: middle;\n",
       "    }\n",
       "\n",
       "    .dataframe tbody tr th {\n",
       "        vertical-align: top;\n",
       "    }\n",
       "\n",
       "    .dataframe thead th {\n",
       "        text-align: right;\n",
       "    }\n",
       "</style>\n",
       "<table border=\"1\" class=\"dataframe\">\n",
       "  <thead>\n",
       "    <tr style=\"text-align: right;\">\n",
       "      <th></th>\n",
       "      <th>author</th>\n",
       "      <th>title</th>\n",
       "      <th>corpus</th>\n",
       "    </tr>\n",
       "    <tr>\n",
       "      <th>book_id</th>\n",
       "      <th></th>\n",
       "      <th></th>\n",
       "      <th></th>\n",
       "    </tr>\n",
       "  </thead>\n",
       "  <tbody>\n",
       "    <tr>\n",
       "      <th>158</th>\n",
       "      <td>austen</td>\n",
       "      <td>Emma</td>\n",
       "      <td>austen-melville</td>\n",
       "    </tr>\n",
       "    <tr>\n",
       "      <th>946</th>\n",
       "      <td>austen</td>\n",
       "      <td>Lady Susan</td>\n",
       "      <td>austen-melville</td>\n",
       "    </tr>\n",
       "    <tr>\n",
       "      <th>1212</th>\n",
       "      <td>austen</td>\n",
       "      <td>Love And Freindship And Other Early Works</td>\n",
       "      <td>austen-melville</td>\n",
       "    </tr>\n",
       "    <tr>\n",
       "      <th>141</th>\n",
       "      <td>austen</td>\n",
       "      <td>Mansfield Park</td>\n",
       "      <td>austen-melville</td>\n",
       "    </tr>\n",
       "    <tr>\n",
       "      <th>121</th>\n",
       "      <td>austen</td>\n",
       "      <td>Northanger Abbey</td>\n",
       "      <td>austen-melville</td>\n",
       "    </tr>\n",
       "    <tr>\n",
       "      <th>105</th>\n",
       "      <td>austen</td>\n",
       "      <td>Persuasion</td>\n",
       "      <td>austen-melville</td>\n",
       "    </tr>\n",
       "    <tr>\n",
       "      <th>1342</th>\n",
       "      <td>austen</td>\n",
       "      <td>Pride and Prejudice</td>\n",
       "      <td>austen-melville</td>\n",
       "    </tr>\n",
       "    <tr>\n",
       "      <th>161</th>\n",
       "      <td>austen</td>\n",
       "      <td>Sense and Sensibility</td>\n",
       "      <td>austen-melville</td>\n",
       "    </tr>\n",
       "    <tr>\n",
       "      <th>15422</th>\n",
       "      <td>melville</td>\n",
       "      <td>Israel Potter</td>\n",
       "      <td>austen-melville</td>\n",
       "    </tr>\n",
       "    <tr>\n",
       "      <th>13720</th>\n",
       "      <td>melville</td>\n",
       "      <td>Mardi: and A Voyage Thither, Vol. I (of 2)</td>\n",
       "      <td>austen-melville</td>\n",
       "    </tr>\n",
       "    <tr>\n",
       "      <th>13721</th>\n",
       "      <td>melville</td>\n",
       "      <td>Mardi: and A Voyage Thither, Vol. II (of 2)</td>\n",
       "      <td>austen-melville</td>\n",
       "    </tr>\n",
       "    <tr>\n",
       "      <th>2701</th>\n",
       "      <td>melville</td>\n",
       "      <td>Moby Dick; or The Whale</td>\n",
       "      <td>austen-melville</td>\n",
       "    </tr>\n",
       "    <tr>\n",
       "      <th>4045</th>\n",
       "      <td>melville</td>\n",
       "      <td>Omoo: Adventures in the South Seas</td>\n",
       "      <td>austen-melville</td>\n",
       "    </tr>\n",
       "    <tr>\n",
       "      <th>34970</th>\n",
       "      <td>melville</td>\n",
       "      <td>Pierre; or The Ambiguities</td>\n",
       "      <td>austen-melville</td>\n",
       "    </tr>\n",
       "    <tr>\n",
       "      <th>8118</th>\n",
       "      <td>melville</td>\n",
       "      <td>Redburn. His First Voyage</td>\n",
       "      <td>austen-melville</td>\n",
       "    </tr>\n",
       "    <tr>\n",
       "      <th>53861</th>\n",
       "      <td>melville</td>\n",
       "      <td>The Apple - Tree Table and Other Sketches</td>\n",
       "      <td>austen-melville</td>\n",
       "    </tr>\n",
       "    <tr>\n",
       "      <th>21816</th>\n",
       "      <td>melville</td>\n",
       "      <td>The Confidence - Man</td>\n",
       "      <td>austen-melville</td>\n",
       "    </tr>\n",
       "    <tr>\n",
       "      <th>15859</th>\n",
       "      <td>melville</td>\n",
       "      <td>The Piazza Tales</td>\n",
       "      <td>austen-melville</td>\n",
       "    </tr>\n",
       "    <tr>\n",
       "      <th>1900</th>\n",
       "      <td>melville</td>\n",
       "      <td>Typee</td>\n",
       "      <td>austen-melville</td>\n",
       "    </tr>\n",
       "    <tr>\n",
       "      <th>10712</th>\n",
       "      <td>melville</td>\n",
       "      <td>White Jacket</td>\n",
       "      <td>austen-melville</td>\n",
       "    </tr>\n",
       "  </tbody>\n",
       "</table>\n",
       "</div>"
      ],
      "text/plain": [
       "           author                                        title  \\\n",
       "book_id                                                          \n",
       "158        austen                                         Emma   \n",
       "946        austen                                   Lady Susan   \n",
       "1212       austen    Love And Freindship And Other Early Works   \n",
       "141        austen                               Mansfield Park   \n",
       "121        austen                             Northanger Abbey   \n",
       "105        austen                                   Persuasion   \n",
       "1342       austen                          Pride and Prejudice   \n",
       "161        austen                        Sense and Sensibility   \n",
       "15422    melville                                Israel Potter   \n",
       "13720    melville   Mardi: and A Voyage Thither, Vol. I (of 2)   \n",
       "13721    melville  Mardi: and A Voyage Thither, Vol. II (of 2)   \n",
       "2701     melville                      Moby Dick; or The Whale   \n",
       "4045     melville           Omoo: Adventures in the South Seas   \n",
       "34970    melville                   Pierre; or The Ambiguities   \n",
       "8118     melville                    Redburn. His First Voyage   \n",
       "53861    melville    The Apple - Tree Table and Other Sketches   \n",
       "21816    melville                         The Confidence - Man   \n",
       "15859    melville                             The Piazza Tales   \n",
       "1900     melville                                        Typee   \n",
       "10712    melville                                 White Jacket   \n",
       "\n",
       "                  corpus  \n",
       "book_id                   \n",
       "158      austen-melville  \n",
       "946      austen-melville  \n",
       "1212     austen-melville  \n",
       "141      austen-melville  \n",
       "121      austen-melville  \n",
       "105      austen-melville  \n",
       "1342     austen-melville  \n",
       "161      austen-melville  \n",
       "15422    austen-melville  \n",
       "13720    austen-melville  \n",
       "13721    austen-melville  \n",
       "2701     austen-melville  \n",
       "4045     austen-melville  \n",
       "34970    austen-melville  \n",
       "8118     austen-melville  \n",
       "53861    austen-melville  \n",
       "21816    austen-melville  \n",
       "15859    austen-melville  \n",
       "1900     austen-melville  \n",
       "10712    austen-melville  "
      ]
     },
     "execution_count": 172,
     "metadata": {},
     "output_type": "execute_result"
    }
   ],
   "source": [
    "LIB[LIB.corpus=='austen-melville']"
   ]
  },
  {
   "cell_type": "code",
   "execution_count": 173,
   "metadata": {},
   "outputs": [
    {
     "name": "stdout",
     "output_type": "stream",
     "text": [
      "Persuasion by sent\n",
      "Northanger Abbey by sent\n",
      "Pride and Prejudice by sent\n",
      "Moby Dick; or The Whale by sent\n"
     ]
    }
   ],
   "source": [
    "M = {}\n",
    "for bid in ['105','121','1342','2701']:\n",
    "    M[bid] = get_sents(bid)"
   ]
  },
  {
   "cell_type": "code",
   "execution_count": 144,
   "metadata": {},
   "outputs": [],
   "source": [
    "# M['105'].sum().sort_values().plot.barh(figsize=(5,20))"
   ]
  },
  {
   "cell_type": "code",
   "execution_count": 176,
   "metadata": {},
   "outputs": [],
   "source": [
    "book_id = '2701'\n",
    "a = M[book_id][('raw','nrc_sentiment','mean')]\n",
    "b = M[book_id][('weighted','nrc_sentiment','mean')]"
   ]
  },
  {
   "cell_type": "code",
   "execution_count": 183,
   "metadata": {},
   "outputs": [
    {
     "data": {
      "image/png": "[encoded data removed]",
      "text/plain": [
       "<Figure size 360x72 with 1 Axes>"
      ]
     },
     "metadata": {},
     "output_type": "display_data"
    }
   ],
   "source": [
    "plot_dct(a)"
   ]
  },
  {
   "cell_type": "code",
   "execution_count": 184,
   "metadata": {},
   "outputs": [
    {
     "data": {
      "image/png": "[encoded data removed]",
      "text/plain": [
       "<Figure size 360x72 with 1 Axes>"
      ]
     },
     "metadata": {},
     "output_type": "display_data"
    }
   ],
   "source": [
    "plot_dct(b)"
   ]
  },
  {
   "cell_type": "code",
   "execution_count": 185,
   "metadata": {},
   "outputs": [
    {
     "data": {
      "image/png": "[encoded data removed]",
      "text/plain": [
       "<Figure size 360x72 with 1 Axes>"
      ]
     },
     "metadata": {},
     "output_type": "display_data"
    }
   ],
   "source": [
    "plot_roll(a)"
   ]
  },
  {
   "cell_type": "code",
   "execution_count": 186,
   "metadata": {},
   "outputs": [
    {
     "data": {
      "image/png": "[encoded data removed]",
      "text/plain": [
       "<Figure size 360x72 with 1 Axes>"
      ]
     },
     "metadata": {},
     "output_type": "display_data"
    }
   ],
   "source": [
    "plot_roll(b)"
   ]
  },
  {
   "cell_type": "code",
   "execution_count": 155,
   "metadata": {},
   "outputs": [],
   "source": [
    "book_id = '105'\n",
    "a = M[book_id][('raw','nrc_sentiment','mean')]\n",
    "b = M[book_id][('weighted','nrc_sentiment','mean')]"
   ]
  },
  {
   "cell_type": "code",
   "execution_count": 156,
   "metadata": {},
   "outputs": [
    {
     "data": {
      "image/png": "[encoded data removed]",
      "text/plain": [
       "<Figure size 360x72 with 1 Axes>"
      ]
     },
     "metadata": {},
     "output_type": "display_data"
    }
   ],
   "source": [
    "plot_dct(a)"
   ]
  },
  {
   "cell_type": "code",
   "execution_count": 157,
   "metadata": {},
   "outputs": [
    {
     "data": {
      "image/png": "[encoded data removed]",
      "text/plain": [
       "<Figure size 360x72 with 1 Axes>"
      ]
     },
     "metadata": {},
     "output_type": "display_data"
    }
   ],
   "source": [
    "plot_dct(b)"
   ]
  },
  {
   "cell_type": "code",
   "execution_count": 158,
   "metadata": {},
   "outputs": [
    {
     "data": {
      "image/png": "[encoded data removed]",
      "text/plain": [
       "<Figure size 360x72 with 1 Axes>"
      ]
     },
     "metadata": {},
     "output_type": "display_data"
    }
   ],
   "source": [
    "plot_roll(a)"
   ]
  },
  {
   "cell_type": "code",
   "execution_count": 159,
   "metadata": {},
   "outputs": [
    {
     "data": {
      "image/png": "[encoded data removed]",
      "text/plain": [
       "<Figure size 360x72 with 1 Axes>"
      ]
     },
     "metadata": {},
     "output_type": "display_data"
    }
   ],
   "source": [
    "plot_roll(b)"
   ]
  },
  {
   "cell_type": "code",
   "execution_count": null,
   "metadata": {},
   "outputs": [],
   "source": []
  }
 ],
 "metadata": {
  "kernelspec": {
   "display_name": "Python 3",
   "language": "python",
   "name": "python3"
  },
  "language_info": {
   "codemirror_mode": {
    "name": "ipython",
    "version": 3
   },
   "file_extension": ".py",
   "mimetype": "text/x-python",
   "name": "python",
   "nbconvert_exporter": "python",
   "pygments_lexer": "ipython3",
   "version": "3.8.8"
  },
  "latex_envs": {
   "LaTeX_envs_menu_present": true,
   "autoclose": false,
   "autocomplete": true,
   "bibliofile": "biblio.bib",
   "cite_by": "apalike",
   "current_citInitial": 1,
   "eqLabelWithNumbers": true,
   "eqNumInitial": 1,
   "hotkeys": {
    "equation": "Ctrl-E",
    "itemize": "Ctrl-I"
   },
   "labels_anchors": false,
   "latex_user_defs": false,
   "report_style_numbering": false,
   "user_envs_cfg": false
  },
  "toc": {
   "base_numbering": 1,
   "nav_menu": {},
   "number_sections": true,
   "sideBar": true,
   "skip_h1_title": true,
   "title_cell": "Table of Contents",
   "title_sidebar": "Contents",
   "toc_cell": false,
   "toc_position": {
    "height": "calc(100% - 180px)",
    "left": "10px",
    "top": "150px",
    "width": "307.2px"
   },
   "toc_section_display": true,
   "toc_window_display": true
  },
  "toc-showtags": false,
  "varInspector": {
   "cols": {
    "lenName": 16,
    "lenType": 16,
    "lenVar": 40
   },
   "kernels_config": {
    "python": {
     "delete_cmd_postfix": "",
     "delete_cmd_prefix": "del ",
     "library": "var_list.py",
     "varRefreshCmd": "print(var_dic_list())"
    },
    "r": {
     "delete_cmd_postfix": ") ",
     "delete_cmd_prefix": "rm(",
     "library": "var_list.r",
     "varRefreshCmd": "cat(var_dic_list()) "
    }
   },
   "types_to_exclude": [
    "module",
    "function",
    "builtin_function_or_method",
    "instance",
    "_Feature"
   ],
   "window_display": false
  },
  "widgets": {
   "application/vnd.jupyter.widget-state+json": {
    "state": {},
    "version_major": 2,
    "version_minor": 0
   }
  }
 },
 "nbformat": 4,
 "nbformat_minor": 4
}
