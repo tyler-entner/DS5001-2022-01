{
 "cells": [
  {
   "cell_type": "markdown",
   "metadata": {},
   "source": [
    "# Metadata\n",
    "\n",
    "```\n",
    "Course:  DS 5001\n",
    "Module:  03 Lab\n",
    "Topic:   Entropy and Peplexity\n",
    "Author:  R.C. Alvarado\n",
    "Purpose: Clarify concept of perplexity.\n",
    "```"
   ]
  },
  {
   "cell_type": "markdown",
   "metadata": {},
   "source": [
    "# Entropy"
   ]
  },
  {
   "cell_type": "markdown",
   "metadata": {},
   "source": [
    "**Probability $p$**\n",
    "\n",
    "$\\Large p = \\frac{n}{N}$\n",
    "\n",
    "$p(w) = \\Large\\frac{n_w}{N_{corpus}}$ \n",
    "\n",
    "`p = n / n.sum()`\n",
    "\n",
    "Most terms have low probability."
   ]
  },
  {
   "cell_type": "markdown",
   "metadata": {},
   "source": [
    "**Surprise $s$**\n",
    "\n",
    "$\\Large s = \\Large\\frac{1}{p}$\n",
    "\n",
    "$s(w) = p(w)^{-1}$\n",
    "\n",
    "Surrprise $s$ increases as the inverse of $p$. Note how inverting $p$ adds variance to the long tail; the curve now looks like a simple quadratic. We can see a more gradual increase in surprise as terms become more rare.\n",
    "\n",
    "<!-- V.s.value_counts().plot(style='*-') -->\n",
    "\n",
    "**Information $i$**\n",
    "\n",
    "$\\Large i= log_2(s)$\n",
    "\n",
    "$i(w) = log_2(s(w))$\n",
    "\n",
    "As normalized suprise, information now has a long tail structure. But notice also the range of information -- it is between 1 and 18. What does this correspond to?\n",
    "\n",
    "<!-- V.i.value_counts().plot(style='*-'); -->\n",
    "\n",
    "**Entropy $h$**\n",
    "\n",
    "$\\Large h = p i$\n",
    "\n",
    "$h(w) = p(w)i(w)$\n",
    "\n",
    "For the self-entropy of each term, we multiply $p$ and $i$. When summed, this will give us the expectation of the information in the distribution, i.e. it's entropy.\n",
    "\n",
    "<!-- V.h.value_counts().plot(style='*-'); -->\n",
    "\n",
    "**Perplexity $PP$**\n",
    "\n",
    "$\\Large PP = \\Large 2^{i}$\n",
    "\n",
    "**Chiasmus**\n",
    "\n",
    "The process of computing entropy follows a chiasmus pattern.\n",
    "\n",
    "$A_1 \\rightarrow B_1 \\rightarrow B_2 \\rightarrow A_2$  \n",
    "\n",
    "<!--\n",
    "$p := A_1, s := B_1, i := B_2, h := A_2$\n",
    "-->\n",
    "\n",
    "$p \\rightarrow s \\rightarrow i \\rightarrow h$ \n",
    "\n",
    "$A: \\{p,h\\}$\n",
    "\n",
    "$B: \\{s,i\\}$"
   ]
  },
  {
   "cell_type": "markdown",
   "metadata": {},
   "source": [
    "# Setup"
   ]
  },
  {
   "cell_type": "markdown",
   "metadata": {},
   "source": [
    "## Libraries"
   ]
  },
  {
   "cell_type": "code",
   "execution_count": 1,
   "metadata": {},
   "outputs": [],
   "source": [
    "import pandas as pd"
   ]
  },
  {
   "cell_type": "markdown",
   "metadata": {},
   "source": [
    "## Config"
   ]
  },
  {
   "cell_type": "code",
   "execution_count": 6,
   "metadata": {},
   "outputs": [],
   "source": [
    "data_home = \"../data\"\n",
    "ohco = ['book_id','chap_num','para_num','sent_num','token_num']"
   ]
  },
  {
   "cell_type": "markdown",
   "metadata": {},
   "source": [
    "## Import data"
   ]
  },
  {
   "cell_type": "code",
   "execution_count": 68,
   "metadata": {
    "tags": []
   },
   "outputs": [],
   "source": [
    "K = pd.read_csv(f\"{data_home}/output/austen-combo-TOKENS.csv\").set_index(ohco)\n",
    "V = pd.read_csv(f\"{data_home}/output/austen-combo-VOCAB.csv\").set_index('term_str')\n",
    "LM = {}\n",
    "for n in range(1, 4):\n",
    "    widx = [f\"w{i}\" for i in range(n)]\n",
    "    LM[n] = pd.read_csv(f\"{data_home}/output/austen-combo-LM{n}.csv\").set_index(widx)"
   ]
  },
  {
   "cell_type": "markdown",
   "metadata": {},
   "source": [
    "# Compute Perplexity"
   ]
  },
  {
   "cell_type": "code",
   "execution_count": 52,
   "metadata": {},
   "outputs": [],
   "source": [
    "K['i'] = K.term_str.map(V.i)\n",
    "K['h'] = K.term_str.map(V.h)"
   ]
  },
  {
   "cell_type": "code",
   "execution_count": 53,
   "metadata": {},
   "outputs": [
    {
     "data": {
      "text/plain": [
       "568.0180578365186"
      ]
     },
     "execution_count": 53,
     "metadata": {},
     "output_type": "execute_result"
    }
   ],
   "source": [
    "2**((V.n * V.i).sum() / V.n.sum())"
   ]
  },
  {
   "cell_type": "code",
   "execution_count": 54,
   "metadata": {},
   "outputs": [
    {
     "data": {
      "text/plain": [
       "568.0180578365186"
      ]
     },
     "execution_count": 54,
     "metadata": {},
     "output_type": "execute_result"
    }
   ],
   "source": [
    "2**(K.i.sum() / K.shape[0])"
   ]
  },
  {
   "cell_type": "code",
   "execution_count": 55,
   "metadata": {},
   "outputs": [
    {
     "data": {
      "text/plain": [
       "568.0180578365186"
      ]
     },
     "execution_count": 55,
     "metadata": {},
     "output_type": "execute_result"
    }
   ],
   "source": [
    "2**K.i.mean()"
   ]
  },
  {
   "cell_type": "code",
   "execution_count": 56,
   "metadata": {},
   "outputs": [
    {
     "data": {
      "text/plain": [
       "9.149792984886869"
      ]
     },
     "execution_count": 56,
     "metadata": {},
     "output_type": "execute_result"
    }
   ],
   "source": [
    "K.i.mean()"
   ]
  },
  {
   "cell_type": "code",
   "execution_count": 69,
   "metadata": {},
   "outputs": [
    {
     "name": "stdout",
     "output_type": "stream",
     "text": [
      "model: 1 N: 232972 i_sum: 2025835.1778587154 i_mean: 8.695616545587947 pp: 414.6115641028022\n",
      "model: 2 N: 232971 i_sum: 828137.8382266178 i_mean: 3.5546820772826564 pp: 11.750759298549298\n",
      "model: 3 N: 232970 i_sum: 238769.1546711369 i_mean: 1.0248922808564918 pp: 2.03480744918621\n"
     ]
    }
   ],
   "source": [
    "for n in range(1, 4):\n",
    "\n",
    "    M = LM[n]\n",
    "    i_col = 'i'\n",
    "    if n > 1: i_col = 'ci'\n",
    "\n",
    "    N = int(M.n.sum())\n",
    "    i_sum = (M.n * M[i_col]).sum()\n",
    "    i_mean = i_sum / N\n",
    "    pp = 2**i_mean\n",
    "    \n",
    "    print('model:', n, 'N:', N, 'i_sum:', i_sum, 'i_mean:', i_mean, 'pp:', pp)"
   ]
  },
  {
   "cell_type": "code",
   "execution_count": null,
   "metadata": {},
   "outputs": [],
   "source": [
    "M"
   ]
  },
  {
   "cell_type": "code",
   "execution_count": null,
   "metadata": {},
   "outputs": [],
   "source": [
    "M.cp.sort_values().plot(style='.', rot=45, title='CP');"
   ]
  },
  {
   "cell_type": "code",
   "execution_count": null,
   "metadata": {},
   "outputs": [],
   "source": [
    "M.ci.sort_values().plot(style='.', rot=45, title='CI');"
   ]
  },
  {
   "cell_type": "code",
   "execution_count": null,
   "metadata": {},
   "outputs": [],
   "source": [
    "M.ch.sort_values().plot(style='.', rot=45, title='CH');"
   ]
  },
  {
   "cell_type": "markdown",
   "metadata": {},
   "source": [
    "# Notes"
   ]
  },
  {
   "cell_type": "markdown",
   "metadata": {},
   "source": [
    "## Cross Entropy and Perplexity"
   ]
  },
  {
   "cell_type": "markdown",
   "metadata": {},
   "source": [
    "### Probabilities of Sequences\n",
    "\n",
    "$ W = W_1^N = (w_1, w_2 ... w_N)$\n",
    "\n",
    "True distribution: $ p = p(W) $\n",
    "\n",
    "Model distribution: $ q = q(W) $\n",
    "\n",
    "### Cross Entropy\n",
    "\n",
    "$ H(p, q) = - \\sum_{x}^{} p(x) log_2(q(x)) $ \n",
    "\n",
    "$ H(p, q) = \\sum_{x}^{} p(x) log_2(\\frac{1}{q(x)}) $ \n",
    "\n",
    "$ i_q(x) = log_2(\\frac{1}{q(x)}) $\n",
    "\n",
    "$ H(p, q) = \\sum_{x} p(x) i_q(x) $ \n",
    "\n",
    "$ H(p, q) = \\vec{p} \\cdot \\vec{i_q} $\n",
    "\n",
    "### Cross Entropy relative to MaxEnt\n",
    "\n",
    "$ N = C(x) = \\sum_x c(x) $\n",
    "\n",
    "$ p_{u} = \\frac{1}{N} $ \n",
    "\n",
    "$ H_{cross} = H(p_u, q) $\n",
    "\n",
    "$ H_{cross} = \\sum_{x} \\frac{1}{N} i(x) $\n",
    "\n",
    "$ H_{cross} = \\frac{1}{N} \\sum_{x} i(x) $\n",
    "\n",
    "$ H_{cross} = \\frac{\\sum_x i(x)}{N} $\n",
    "\n",
    "$ H_{cross} = \\frac{ |\\vec{i}|_1 }{ N } $\n",
    "\n"
   ]
  },
  {
   "cell_type": "markdown",
   "metadata": {},
   "source": [
    "#### Perplexity\n",
    "\n",
    "$ PP(W) = P(w_1, w_2 ... w_N)^{-1/N} $\n",
    "\n",
    "$ PP(p) = 2^{H(p)}$\n",
    "\n",
    "$ PP(p_u, q) = 2^{H_{cross}}$\n",
    "\n",
    "#### Redundancy\n",
    "\n",
    "$ H_{max} = log_2(N) $\n",
    "\n",
    "$ H_{max} = i(p_u) $\n",
    "\n",
    "$ R = 1 - \\frac{H}{H_{max}} $"
   ]
  },
  {
   "cell_type": "markdown",
   "metadata": {},
   "source": [
    "## From J & M\n",
    "<img src=\"perplexity.png\">"
   ]
  },
  {
   "cell_type": "markdown",
   "metadata": {},
   "source": [
    "## From Stack Overflow\n",
    "https://stats.stackexchange.com/questions/129352/how-to-find-the-perplexity-of-a-corpus\n",
    "<img src=\"stackover1.png\">\n",
    "<img src=\"stackover2.png\">"
   ]
  },
  {
   "cell_type": "markdown",
   "metadata": {},
   "source": [
    "## Perplexity\n",
    "\n",
    "$ PP(w) = 2^{-\\frac{\\ell(w)}{M}} $\n",
    "\n",
    "$ -\\ell(w) = i_2(w) $\n",
    "\n",
    "$ PP(w) = 2^{\\frac{i_2(w)}{M}} $"
   ]
  },
  {
   "cell_type": "markdown",
   "metadata": {},
   "source": [
    "## Perplexity\n",
    "\n",
    "$ PP(W) = 2^{-\\frac{\\ell(W)}{N}} $\n",
    "\n",
    "$ i_2(W) = -\\ell(W) $\n",
    "\n",
    "$ PP(W) = 2^{\\frac{i_2(W)}{N}} $"
   ]
  },
  {
   "cell_type": "code",
   "execution_count": null,
   "metadata": {},
   "outputs": [],
   "source": []
  }
 ],
 "metadata": {
  "kernelspec": {
   "display_name": "Python 3",
   "language": "python",
   "name": "python3"
  },
  "language_info": {
   "codemirror_mode": {
    "name": "ipython",
    "version": 3
   },
   "file_extension": ".py",
   "mimetype": "text/x-python",
   "name": "python",
   "nbconvert_exporter": "python",
   "pygments_lexer": "ipython3",
   "version": "3.8.10"
  },
  "latex_envs": {
   "LaTeX_envs_menu_present": true,
   "autoclose": false,
   "autocomplete": true,
   "bibliofile": "biblio.bib",
   "cite_by": "apalike",
   "current_citInitial": 1,
   "eqLabelWithNumbers": true,
   "eqNumInitial": 1,
   "hotkeys": {
    "equation": "Ctrl-E",
    "itemize": "Ctrl-I"
   },
   "labels_anchors": false,
   "latex_user_defs": false,
   "report_style_numbering": false,
   "user_envs_cfg": false
  },
  "toc": {
   "base_numbering": 1,
   "nav_menu": {},
   "number_sections": true,
   "sideBar": true,
   "skip_h1_title": true,
   "title_cell": "Table of Contents",
   "title_sidebar": "Contents",
   "toc_cell": false,
   "toc_position": {
    "height": "calc(100% - 180px)",
    "left": "10px",
    "top": "150px",
    "width": "307.2px"
   },
   "toc_section_display": true,
   "toc_window_display": true
  },
  "varInspector": {
   "cols": {
    "lenName": 16,
    "lenType": 16,
    "lenVar": 40
   },
   "kernels_config": {
    "python": {
     "delete_cmd_postfix": "",
     "delete_cmd_prefix": "del ",
     "library": "var_list.py",
     "varRefreshCmd": "print(var_dic_list())"
    },
    "r": {
     "delete_cmd_postfix": ") ",
     "delete_cmd_prefix": "rm(",
     "library": "var_list.r",
     "varRefreshCmd": "cat(var_dic_list()) "
    }
   },
   "types_to_exclude": [
    "module",
    "function",
    "builtin_function_or_method",
    "instance",
    "_Feature"
   ],
   "window_display": false
  },
  "widgets": {
   "application/vnd.jupyter.widget-state+json": {
    "state": {},
    "version_major": 2,
    "version_minor": 0
   }
  }
 },
 "nbformat": 4,
 "nbformat_minor": 4
}
