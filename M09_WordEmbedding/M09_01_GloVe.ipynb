{
 "cells": [
  {
   "cell_type": "markdown",
   "metadata": {},
   "source": [
    "# Metadata\n",
    "\n",
    "```\n",
    "Course:   DS 5001 \n",
    "Module:   09 Lab\n",
    "Topic:    Using GloVe\n",
    "Author:   R.C. Alvarado\n",
    "\n",
    "Purpose:  We use some pretrained word vectors from the developers of GloVe.\n",
    "\n",
    "```"
   ]
  },
  {
   "cell_type": "markdown",
   "metadata": {
    "jp-MarkdownHeadingCollapsed": true,
    "tags": []
   },
   "source": [
    "# GloVe\n",
    "\n",
    "Provide by the <a href=\"https://nlp.stanford.edu/\">Stanford NLP Group</a>.\n",
    "\n",
    "GloVe is an **unsupervised learning algorithm for obtaining vector representations for words**. Training is performed on aggregated global word-word co-occurrence statistics from a corpus, and the resulting representations showcase interesting linear substructures of the word vector space.\n",
    "\n",
    "GloVe provides both **code to train models** and a set of **pre-trained models**.\n",
    "\n",
    "More info here:\n",
    "* <a href=\"https://nlp.stanford.edu/projects/glove/\">GloVe</a>\n",
    "* <a href=\"https://github.com/stanfordnlp/GloVe\">GitHub</a>\n",
    "\n",
    "**Glove50**\n",
    "* Released in 2014\n",
    "* Based on Wikipedia \n",
    "* 50 features\n",
    "* Trained with Global Vectors (GloVe) method\n",
    "* Encodes 1,193,515 word vectors\n",
    "* All tokens outside the vocabulary encoded as the zero-vector\n",
    "* Case is ignored\n",
    "* Used by SpaCy\n",
    "* Intended to be used with Cosine similarity (or Euclidean distance)"
   ]
  },
  {
   "cell_type": "markdown",
   "metadata": {},
   "source": [
    "# Set Up"
   ]
  },
  {
   "cell_type": "code",
   "execution_count": 1,
   "metadata": {},
   "outputs": [],
   "source": [
    "data_home = \"../data\"\n",
    "glove_file = f\"{data_home}/misc/glove50.csv\""
   ]
  },
  {
   "cell_type": "code",
   "execution_count": 2,
   "metadata": {},
   "outputs": [],
   "source": [
    "import pandas as pd\n",
    "import numpy as np\n",
    "from sklearn.metrics.pairwise import manhattan_distances, cosine_distances"
   ]
  },
  {
   "cell_type": "markdown",
   "metadata": {
    "toc-hr-collapsed": false
   },
   "source": [
    "# Import GloVe data"
   ]
  },
  {
   "cell_type": "code",
   "execution_count": 3,
   "metadata": {},
   "outputs": [],
   "source": [
    "glove = pd.read_csv(glove_file).set_index('term_str')"
   ]
  },
  {
   "cell_type": "code",
   "execution_count": 4,
   "metadata": {},
   "outputs": [
    {
     "data": {
      "text/html": [
       "<div>\n",
       "<style scoped>\n",
       "    .dataframe tbody tr th:only-of-type {\n",
       "        vertical-align: middle;\n",
       "    }\n",
       "\n",
       "    .dataframe tbody tr th {\n",
       "        vertical-align: top;\n",
       "    }\n",
       "\n",
       "    .dataframe thead th {\n",
       "        text-align: right;\n",
       "    }\n",
       "</style>\n",
       "<table border=\"1\" class=\"dataframe\">\n",
       "  <thead>\n",
       "    <tr style=\"text-align: right;\">\n",
       "      <th></th>\n",
       "      <th>1</th>\n",
       "      <th>2</th>\n",
       "      <th>3</th>\n",
       "      <th>4</th>\n",
       "      <th>5</th>\n",
       "      <th>6</th>\n",
       "      <th>7</th>\n",
       "      <th>8</th>\n",
       "      <th>9</th>\n",
       "      <th>10</th>\n",
       "      <th>...</th>\n",
       "      <th>41</th>\n",
       "      <th>42</th>\n",
       "      <th>43</th>\n",
       "      <th>44</th>\n",
       "      <th>45</th>\n",
       "      <th>46</th>\n",
       "      <th>47</th>\n",
       "      <th>48</th>\n",
       "      <th>49</th>\n",
       "      <th>50</th>\n",
       "    </tr>\n",
       "    <tr>\n",
       "      <th>term_str</th>\n",
       "      <th></th>\n",
       "      <th></th>\n",
       "      <th></th>\n",
       "      <th></th>\n",
       "      <th></th>\n",
       "      <th></th>\n",
       "      <th></th>\n",
       "      <th></th>\n",
       "      <th></th>\n",
       "      <th></th>\n",
       "      <th></th>\n",
       "      <th></th>\n",
       "      <th></th>\n",
       "      <th></th>\n",
       "      <th></th>\n",
       "      <th></th>\n",
       "      <th></th>\n",
       "      <th></th>\n",
       "      <th></th>\n",
       "      <th></th>\n",
       "      <th></th>\n",
       "    </tr>\n",
       "  </thead>\n",
       "  <tbody>\n",
       "    <tr>\n",
       "      <th>the</th>\n",
       "      <td>0.418000</td>\n",
       "      <td>0.249680</td>\n",
       "      <td>-0.41242</td>\n",
       "      <td>0.121700</td>\n",
       "      <td>0.34527</td>\n",
       "      <td>-0.044457</td>\n",
       "      <td>-0.496880</td>\n",
       "      <td>-0.178620</td>\n",
       "      <td>-0.000660</td>\n",
       "      <td>-0.656600</td>\n",
       "      <td>...</td>\n",
       "      <td>-0.298710</td>\n",
       "      <td>-0.157490</td>\n",
       "      <td>-0.347580</td>\n",
       "      <td>-0.045637</td>\n",
       "      <td>-0.442510</td>\n",
       "      <td>0.187850</td>\n",
       "      <td>0.002785</td>\n",
       "      <td>-0.184110</td>\n",
       "      <td>-0.115140</td>\n",
       "      <td>-0.785810</td>\n",
       "    </tr>\n",
       "    <tr>\n",
       "      <th>,</th>\n",
       "      <td>0.013441</td>\n",
       "      <td>0.236820</td>\n",
       "      <td>-0.16899</td>\n",
       "      <td>0.409510</td>\n",
       "      <td>0.63812</td>\n",
       "      <td>0.477090</td>\n",
       "      <td>-0.428520</td>\n",
       "      <td>-0.556410</td>\n",
       "      <td>-0.364000</td>\n",
       "      <td>-0.239380</td>\n",
       "      <td>...</td>\n",
       "      <td>-0.080262</td>\n",
       "      <td>0.630030</td>\n",
       "      <td>0.321110</td>\n",
       "      <td>-0.467650</td>\n",
       "      <td>0.227860</td>\n",
       "      <td>0.360340</td>\n",
       "      <td>-0.378180</td>\n",
       "      <td>-0.566570</td>\n",
       "      <td>0.044691</td>\n",
       "      <td>0.303920</td>\n",
       "    </tr>\n",
       "    <tr>\n",
       "      <th>.</th>\n",
       "      <td>0.151640</td>\n",
       "      <td>0.301770</td>\n",
       "      <td>-0.16763</td>\n",
       "      <td>0.176840</td>\n",
       "      <td>0.31719</td>\n",
       "      <td>0.339730</td>\n",
       "      <td>-0.434780</td>\n",
       "      <td>-0.310860</td>\n",
       "      <td>-0.449990</td>\n",
       "      <td>-0.294860</td>\n",
       "      <td>...</td>\n",
       "      <td>-0.000064</td>\n",
       "      <td>0.068987</td>\n",
       "      <td>0.087939</td>\n",
       "      <td>-0.102850</td>\n",
       "      <td>-0.139310</td>\n",
       "      <td>0.223140</td>\n",
       "      <td>-0.080803</td>\n",
       "      <td>-0.356520</td>\n",
       "      <td>0.016413</td>\n",
       "      <td>0.102160</td>\n",
       "    </tr>\n",
       "    <tr>\n",
       "      <th>of</th>\n",
       "      <td>0.708530</td>\n",
       "      <td>0.570880</td>\n",
       "      <td>-0.47160</td>\n",
       "      <td>0.180480</td>\n",
       "      <td>0.54449</td>\n",
       "      <td>0.726030</td>\n",
       "      <td>0.181570</td>\n",
       "      <td>-0.523930</td>\n",
       "      <td>0.103810</td>\n",
       "      <td>-0.175660</td>\n",
       "      <td>...</td>\n",
       "      <td>-0.347270</td>\n",
       "      <td>0.284830</td>\n",
       "      <td>0.075693</td>\n",
       "      <td>-0.062178</td>\n",
       "      <td>-0.389880</td>\n",
       "      <td>0.229020</td>\n",
       "      <td>-0.216170</td>\n",
       "      <td>-0.225620</td>\n",
       "      <td>-0.093918</td>\n",
       "      <td>-0.803750</td>\n",
       "    </tr>\n",
       "    <tr>\n",
       "      <th>to</th>\n",
       "      <td>0.680470</td>\n",
       "      <td>-0.039263</td>\n",
       "      <td>0.30186</td>\n",
       "      <td>-0.177920</td>\n",
       "      <td>0.42962</td>\n",
       "      <td>0.032246</td>\n",
       "      <td>-0.413760</td>\n",
       "      <td>0.132280</td>\n",
       "      <td>-0.298470</td>\n",
       "      <td>-0.085253</td>\n",
       "      <td>...</td>\n",
       "      <td>-0.094375</td>\n",
       "      <td>0.018324</td>\n",
       "      <td>0.210480</td>\n",
       "      <td>-0.030880</td>\n",
       "      <td>-0.197220</td>\n",
       "      <td>0.082279</td>\n",
       "      <td>-0.094340</td>\n",
       "      <td>-0.073297</td>\n",
       "      <td>-0.064699</td>\n",
       "      <td>-0.260440</td>\n",
       "    </tr>\n",
       "    <tr>\n",
       "      <th>...</th>\n",
       "      <td>...</td>\n",
       "      <td>...</td>\n",
       "      <td>...</td>\n",
       "      <td>...</td>\n",
       "      <td>...</td>\n",
       "      <td>...</td>\n",
       "      <td>...</td>\n",
       "      <td>...</td>\n",
       "      <td>...</td>\n",
       "      <td>...</td>\n",
       "      <td>...</td>\n",
       "      <td>...</td>\n",
       "      <td>...</td>\n",
       "      <td>...</td>\n",
       "      <td>...</td>\n",
       "      <td>...</td>\n",
       "      <td>...</td>\n",
       "      <td>...</td>\n",
       "      <td>...</td>\n",
       "      <td>...</td>\n",
       "      <td>...</td>\n",
       "    </tr>\n",
       "    <tr>\n",
       "      <th>chanty</th>\n",
       "      <td>0.232040</td>\n",
       "      <td>0.025672</td>\n",
       "      <td>-0.70699</td>\n",
       "      <td>-0.045465</td>\n",
       "      <td>0.13989</td>\n",
       "      <td>-0.628070</td>\n",
       "      <td>0.726250</td>\n",
       "      <td>0.341080</td>\n",
       "      <td>0.446140</td>\n",
       "      <td>0.163290</td>\n",
       "      <td>...</td>\n",
       "      <td>-0.095526</td>\n",
       "      <td>-0.296050</td>\n",
       "      <td>0.385670</td>\n",
       "      <td>0.136840</td>\n",
       "      <td>0.593310</td>\n",
       "      <td>-0.694860</td>\n",
       "      <td>0.124100</td>\n",
       "      <td>-0.180690</td>\n",
       "      <td>-0.258300</td>\n",
       "      <td>-0.039673</td>\n",
       "    </tr>\n",
       "    <tr>\n",
       "      <th>kronik</th>\n",
       "      <td>-0.609210</td>\n",
       "      <td>-0.672180</td>\n",
       "      <td>0.23521</td>\n",
       "      <td>-0.111950</td>\n",
       "      <td>-0.46094</td>\n",
       "      <td>-0.007462</td>\n",
       "      <td>0.255780</td>\n",
       "      <td>0.856320</td>\n",
       "      <td>0.055977</td>\n",
       "      <td>-0.237920</td>\n",
       "      <td>...</td>\n",
       "      <td>0.672050</td>\n",
       "      <td>-0.598220</td>\n",
       "      <td>-0.202590</td>\n",
       "      <td>0.392430</td>\n",
       "      <td>0.028873</td>\n",
       "      <td>0.030003</td>\n",
       "      <td>-0.106170</td>\n",
       "      <td>-0.114110</td>\n",
       "      <td>-0.249010</td>\n",
       "      <td>-0.120260</td>\n",
       "    </tr>\n",
       "    <tr>\n",
       "      <th>rolonda</th>\n",
       "      <td>-0.511810</td>\n",
       "      <td>0.058706</td>\n",
       "      <td>1.09130</td>\n",
       "      <td>-0.551630</td>\n",
       "      <td>-0.10249</td>\n",
       "      <td>-0.126500</td>\n",
       "      <td>0.995030</td>\n",
       "      <td>0.079711</td>\n",
       "      <td>-0.162460</td>\n",
       "      <td>0.564880</td>\n",
       "      <td>...</td>\n",
       "      <td>0.024747</td>\n",
       "      <td>0.200920</td>\n",
       "      <td>-1.085100</td>\n",
       "      <td>-0.136260</td>\n",
       "      <td>0.350520</td>\n",
       "      <td>-0.858910</td>\n",
       "      <td>0.067858</td>\n",
       "      <td>-0.250030</td>\n",
       "      <td>-1.125000</td>\n",
       "      <td>1.586300</td>\n",
       "    </tr>\n",
       "    <tr>\n",
       "      <th>zsombor</th>\n",
       "      <td>-0.758980</td>\n",
       "      <td>-0.474260</td>\n",
       "      <td>0.47370</td>\n",
       "      <td>0.772500</td>\n",
       "      <td>-0.78064</td>\n",
       "      <td>0.232330</td>\n",
       "      <td>0.046114</td>\n",
       "      <td>0.840140</td>\n",
       "      <td>0.243710</td>\n",
       "      <td>0.022978</td>\n",
       "      <td>...</td>\n",
       "      <td>0.454390</td>\n",
       "      <td>-0.842540</td>\n",
       "      <td>0.106500</td>\n",
       "      <td>-0.059397</td>\n",
       "      <td>0.090449</td>\n",
       "      <td>0.305810</td>\n",
       "      <td>-0.614240</td>\n",
       "      <td>0.789540</td>\n",
       "      <td>-0.014116</td>\n",
       "      <td>0.644800</td>\n",
       "    </tr>\n",
       "    <tr>\n",
       "      <th>sandberger</th>\n",
       "      <td>0.072617</td>\n",
       "      <td>-0.513930</td>\n",
       "      <td>0.47280</td>\n",
       "      <td>-0.522020</td>\n",
       "      <td>-0.35534</td>\n",
       "      <td>0.346290</td>\n",
       "      <td>0.232110</td>\n",
       "      <td>0.230960</td>\n",
       "      <td>0.266940</td>\n",
       "      <td>0.410280</td>\n",
       "      <td>...</td>\n",
       "      <td>0.688800</td>\n",
       "      <td>-0.179860</td>\n",
       "      <td>-0.066569</td>\n",
       "      <td>-0.480440</td>\n",
       "      <td>-0.559460</td>\n",
       "      <td>-0.275940</td>\n",
       "      <td>0.056072</td>\n",
       "      <td>-0.189070</td>\n",
       "      <td>-0.590210</td>\n",
       "      <td>0.555590</td>\n",
       "    </tr>\n",
       "  </tbody>\n",
       "</table>\n",
       "<p>399623 rows × 50 columns</p>\n",
       "</div>"
      ],
      "text/plain": [
       "                   1         2        3         4        5         6  \\\n",
       "term_str                                                               \n",
       "the         0.418000  0.249680 -0.41242  0.121700  0.34527 -0.044457   \n",
       ",           0.013441  0.236820 -0.16899  0.409510  0.63812  0.477090   \n",
       ".           0.151640  0.301770 -0.16763  0.176840  0.31719  0.339730   \n",
       "of          0.708530  0.570880 -0.47160  0.180480  0.54449  0.726030   \n",
       "to          0.680470 -0.039263  0.30186 -0.177920  0.42962  0.032246   \n",
       "...              ...       ...      ...       ...      ...       ...   \n",
       "chanty      0.232040  0.025672 -0.70699 -0.045465  0.13989 -0.628070   \n",
       "kronik     -0.609210 -0.672180  0.23521 -0.111950 -0.46094 -0.007462   \n",
       "rolonda    -0.511810  0.058706  1.09130 -0.551630 -0.10249 -0.126500   \n",
       "zsombor    -0.758980 -0.474260  0.47370  0.772500 -0.78064  0.232330   \n",
       "sandberger  0.072617 -0.513930  0.47280 -0.522020 -0.35534  0.346290   \n",
       "\n",
       "                   7         8         9        10  ...        41        42  \\\n",
       "term_str                                            ...                       \n",
       "the        -0.496880 -0.178620 -0.000660 -0.656600  ... -0.298710 -0.157490   \n",
       ",          -0.428520 -0.556410 -0.364000 -0.239380  ... -0.080262  0.630030   \n",
       ".          -0.434780 -0.310860 -0.449990 -0.294860  ... -0.000064  0.068987   \n",
       "of          0.181570 -0.523930  0.103810 -0.175660  ... -0.347270  0.284830   \n",
       "to         -0.413760  0.132280 -0.298470 -0.085253  ... -0.094375  0.018324   \n",
       "...              ...       ...       ...       ...  ...       ...       ...   \n",
       "chanty      0.726250  0.341080  0.446140  0.163290  ... -0.095526 -0.296050   \n",
       "kronik      0.255780  0.856320  0.055977 -0.237920  ...  0.672050 -0.598220   \n",
       "rolonda     0.995030  0.079711 -0.162460  0.564880  ...  0.024747  0.200920   \n",
       "zsombor     0.046114  0.840140  0.243710  0.022978  ...  0.454390 -0.842540   \n",
       "sandberger  0.232110  0.230960  0.266940  0.410280  ...  0.688800 -0.179860   \n",
       "\n",
       "                  43        44        45        46        47        48  \\\n",
       "term_str                                                                 \n",
       "the        -0.347580 -0.045637 -0.442510  0.187850  0.002785 -0.184110   \n",
       ",           0.321110 -0.467650  0.227860  0.360340 -0.378180 -0.566570   \n",
       ".           0.087939 -0.102850 -0.139310  0.223140 -0.080803 -0.356520   \n",
       "of          0.075693 -0.062178 -0.389880  0.229020 -0.216170 -0.225620   \n",
       "to          0.210480 -0.030880 -0.197220  0.082279 -0.094340 -0.073297   \n",
       "...              ...       ...       ...       ...       ...       ...   \n",
       "chanty      0.385670  0.136840  0.593310 -0.694860  0.124100 -0.180690   \n",
       "kronik     -0.202590  0.392430  0.028873  0.030003 -0.106170 -0.114110   \n",
       "rolonda    -1.085100 -0.136260  0.350520 -0.858910  0.067858 -0.250030   \n",
       "zsombor     0.106500 -0.059397  0.090449  0.305810 -0.614240  0.789540   \n",
       "sandberger -0.066569 -0.480440 -0.559460 -0.275940  0.056072 -0.189070   \n",
       "\n",
       "                  49        50  \n",
       "term_str                        \n",
       "the        -0.115140 -0.785810  \n",
       ",           0.044691  0.303920  \n",
       ".           0.016413  0.102160  \n",
       "of         -0.093918 -0.803750  \n",
       "to         -0.064699 -0.260440  \n",
       "...              ...       ...  \n",
       "chanty     -0.258300 -0.039673  \n",
       "kronik     -0.249010 -0.120260  \n",
       "rolonda    -1.125000  1.586300  \n",
       "zsombor    -0.014116  0.644800  \n",
       "sandberger -0.590210  0.555590  \n",
       "\n",
       "[399623 rows x 50 columns]"
      ]
     },
     "execution_count": 4,
     "metadata": {},
     "output_type": "execute_result"
    }
   ],
   "source": [
    "glove"
   ]
  },
  {
   "cell_type": "markdown",
   "metadata": {},
   "source": [
    "# Remove non-words\n",
    "\n",
    "There are a lot of useless tokens in the vocabulary. These may be good for generating the features, but we don't need them in our queries."
   ]
  },
  {
   "cell_type": "code",
   "execution_count": 5,
   "metadata": {},
   "outputs": [],
   "source": [
    "glove = glove[glove.index.str.match(r'^[a-z]+$')]"
   ]
  },
  {
   "cell_type": "code",
   "execution_count": 6,
   "metadata": {},
   "outputs": [
    {
     "data": {
      "text/html": [
       "<div>\n",
       "<style scoped>\n",
       "    .dataframe tbody tr th:only-of-type {\n",
       "        vertical-align: middle;\n",
       "    }\n",
       "\n",
       "    .dataframe tbody tr th {\n",
       "        vertical-align: top;\n",
       "    }\n",
       "\n",
       "    .dataframe thead th {\n",
       "        text-align: right;\n",
       "    }\n",
       "</style>\n",
       "<table border=\"1\" class=\"dataframe\">\n",
       "  <thead>\n",
       "    <tr style=\"text-align: right;\">\n",
       "      <th></th>\n",
       "      <th>1</th>\n",
       "      <th>2</th>\n",
       "      <th>3</th>\n",
       "      <th>4</th>\n",
       "      <th>5</th>\n",
       "      <th>6</th>\n",
       "      <th>7</th>\n",
       "      <th>8</th>\n",
       "      <th>9</th>\n",
       "      <th>10</th>\n",
       "      <th>...</th>\n",
       "      <th>41</th>\n",
       "      <th>42</th>\n",
       "      <th>43</th>\n",
       "      <th>44</th>\n",
       "      <th>45</th>\n",
       "      <th>46</th>\n",
       "      <th>47</th>\n",
       "      <th>48</th>\n",
       "      <th>49</th>\n",
       "      <th>50</th>\n",
       "    </tr>\n",
       "    <tr>\n",
       "      <th>term_str</th>\n",
       "      <th></th>\n",
       "      <th></th>\n",
       "      <th></th>\n",
       "      <th></th>\n",
       "      <th></th>\n",
       "      <th></th>\n",
       "      <th></th>\n",
       "      <th></th>\n",
       "      <th></th>\n",
       "      <th></th>\n",
       "      <th></th>\n",
       "      <th></th>\n",
       "      <th></th>\n",
       "      <th></th>\n",
       "      <th></th>\n",
       "      <th></th>\n",
       "      <th></th>\n",
       "      <th></th>\n",
       "      <th></th>\n",
       "      <th></th>\n",
       "      <th></th>\n",
       "    </tr>\n",
       "  </thead>\n",
       "  <tbody>\n",
       "    <tr>\n",
       "      <th>the</th>\n",
       "      <td>0.418000</td>\n",
       "      <td>0.249680</td>\n",
       "      <td>-0.41242</td>\n",
       "      <td>0.121700</td>\n",
       "      <td>0.345270</td>\n",
       "      <td>-0.044457</td>\n",
       "      <td>-0.496880</td>\n",
       "      <td>-0.178620</td>\n",
       "      <td>-0.000660</td>\n",
       "      <td>-0.656600</td>\n",
       "      <td>...</td>\n",
       "      <td>-0.298710</td>\n",
       "      <td>-0.157490</td>\n",
       "      <td>-0.347580</td>\n",
       "      <td>-0.045637</td>\n",
       "      <td>-0.442510</td>\n",
       "      <td>0.187850</td>\n",
       "      <td>0.002785</td>\n",
       "      <td>-0.184110</td>\n",
       "      <td>-0.115140</td>\n",
       "      <td>-0.785810</td>\n",
       "    </tr>\n",
       "    <tr>\n",
       "      <th>of</th>\n",
       "      <td>0.708530</td>\n",
       "      <td>0.570880</td>\n",
       "      <td>-0.47160</td>\n",
       "      <td>0.180480</td>\n",
       "      <td>0.544490</td>\n",
       "      <td>0.726030</td>\n",
       "      <td>0.181570</td>\n",
       "      <td>-0.523930</td>\n",
       "      <td>0.103810</td>\n",
       "      <td>-0.175660</td>\n",
       "      <td>...</td>\n",
       "      <td>-0.347270</td>\n",
       "      <td>0.284830</td>\n",
       "      <td>0.075693</td>\n",
       "      <td>-0.062178</td>\n",
       "      <td>-0.389880</td>\n",
       "      <td>0.229020</td>\n",
       "      <td>-0.216170</td>\n",
       "      <td>-0.225620</td>\n",
       "      <td>-0.093918</td>\n",
       "      <td>-0.803750</td>\n",
       "    </tr>\n",
       "    <tr>\n",
       "      <th>to</th>\n",
       "      <td>0.680470</td>\n",
       "      <td>-0.039263</td>\n",
       "      <td>0.30186</td>\n",
       "      <td>-0.177920</td>\n",
       "      <td>0.429620</td>\n",
       "      <td>0.032246</td>\n",
       "      <td>-0.413760</td>\n",
       "      <td>0.132280</td>\n",
       "      <td>-0.298470</td>\n",
       "      <td>-0.085253</td>\n",
       "      <td>...</td>\n",
       "      <td>-0.094375</td>\n",
       "      <td>0.018324</td>\n",
       "      <td>0.210480</td>\n",
       "      <td>-0.030880</td>\n",
       "      <td>-0.197220</td>\n",
       "      <td>0.082279</td>\n",
       "      <td>-0.094340</td>\n",
       "      <td>-0.073297</td>\n",
       "      <td>-0.064699</td>\n",
       "      <td>-0.260440</td>\n",
       "    </tr>\n",
       "    <tr>\n",
       "      <th>and</th>\n",
       "      <td>0.268180</td>\n",
       "      <td>0.143460</td>\n",
       "      <td>-0.27877</td>\n",
       "      <td>0.016257</td>\n",
       "      <td>0.113840</td>\n",
       "      <td>0.699230</td>\n",
       "      <td>-0.513320</td>\n",
       "      <td>-0.473680</td>\n",
       "      <td>-0.330750</td>\n",
       "      <td>-0.138340</td>\n",
       "      <td>...</td>\n",
       "      <td>-0.069043</td>\n",
       "      <td>0.368850</td>\n",
       "      <td>0.251680</td>\n",
       "      <td>-0.245170</td>\n",
       "      <td>0.253810</td>\n",
       "      <td>0.136700</td>\n",
       "      <td>-0.311780</td>\n",
       "      <td>-0.632100</td>\n",
       "      <td>-0.250280</td>\n",
       "      <td>-0.380970</td>\n",
       "    </tr>\n",
       "    <tr>\n",
       "      <th>in</th>\n",
       "      <td>0.330420</td>\n",
       "      <td>0.249950</td>\n",
       "      <td>-0.60874</td>\n",
       "      <td>0.109230</td>\n",
       "      <td>0.036372</td>\n",
       "      <td>0.151000</td>\n",
       "      <td>-0.550830</td>\n",
       "      <td>-0.074239</td>\n",
       "      <td>-0.092307</td>\n",
       "      <td>-0.328210</td>\n",
       "      <td>...</td>\n",
       "      <td>-0.486090</td>\n",
       "      <td>-0.008027</td>\n",
       "      <td>0.031184</td>\n",
       "      <td>-0.365760</td>\n",
       "      <td>-0.426990</td>\n",
       "      <td>0.421640</td>\n",
       "      <td>-0.116660</td>\n",
       "      <td>-0.507030</td>\n",
       "      <td>-0.027273</td>\n",
       "      <td>-0.532850</td>\n",
       "    </tr>\n",
       "    <tr>\n",
       "      <th>...</th>\n",
       "      <td>...</td>\n",
       "      <td>...</td>\n",
       "      <td>...</td>\n",
       "      <td>...</td>\n",
       "      <td>...</td>\n",
       "      <td>...</td>\n",
       "      <td>...</td>\n",
       "      <td>...</td>\n",
       "      <td>...</td>\n",
       "      <td>...</td>\n",
       "      <td>...</td>\n",
       "      <td>...</td>\n",
       "      <td>...</td>\n",
       "      <td>...</td>\n",
       "      <td>...</td>\n",
       "      <td>...</td>\n",
       "      <td>...</td>\n",
       "      <td>...</td>\n",
       "      <td>...</td>\n",
       "      <td>...</td>\n",
       "      <td>...</td>\n",
       "    </tr>\n",
       "    <tr>\n",
       "      <th>chanty</th>\n",
       "      <td>0.232040</td>\n",
       "      <td>0.025672</td>\n",
       "      <td>-0.70699</td>\n",
       "      <td>-0.045465</td>\n",
       "      <td>0.139890</td>\n",
       "      <td>-0.628070</td>\n",
       "      <td>0.726250</td>\n",
       "      <td>0.341080</td>\n",
       "      <td>0.446140</td>\n",
       "      <td>0.163290</td>\n",
       "      <td>...</td>\n",
       "      <td>-0.095526</td>\n",
       "      <td>-0.296050</td>\n",
       "      <td>0.385670</td>\n",
       "      <td>0.136840</td>\n",
       "      <td>0.593310</td>\n",
       "      <td>-0.694860</td>\n",
       "      <td>0.124100</td>\n",
       "      <td>-0.180690</td>\n",
       "      <td>-0.258300</td>\n",
       "      <td>-0.039673</td>\n",
       "    </tr>\n",
       "    <tr>\n",
       "      <th>kronik</th>\n",
       "      <td>-0.609210</td>\n",
       "      <td>-0.672180</td>\n",
       "      <td>0.23521</td>\n",
       "      <td>-0.111950</td>\n",
       "      <td>-0.460940</td>\n",
       "      <td>-0.007462</td>\n",
       "      <td>0.255780</td>\n",
       "      <td>0.856320</td>\n",
       "      <td>0.055977</td>\n",
       "      <td>-0.237920</td>\n",
       "      <td>...</td>\n",
       "      <td>0.672050</td>\n",
       "      <td>-0.598220</td>\n",
       "      <td>-0.202590</td>\n",
       "      <td>0.392430</td>\n",
       "      <td>0.028873</td>\n",
       "      <td>0.030003</td>\n",
       "      <td>-0.106170</td>\n",
       "      <td>-0.114110</td>\n",
       "      <td>-0.249010</td>\n",
       "      <td>-0.120260</td>\n",
       "    </tr>\n",
       "    <tr>\n",
       "      <th>rolonda</th>\n",
       "      <td>-0.511810</td>\n",
       "      <td>0.058706</td>\n",
       "      <td>1.09130</td>\n",
       "      <td>-0.551630</td>\n",
       "      <td>-0.102490</td>\n",
       "      <td>-0.126500</td>\n",
       "      <td>0.995030</td>\n",
       "      <td>0.079711</td>\n",
       "      <td>-0.162460</td>\n",
       "      <td>0.564880</td>\n",
       "      <td>...</td>\n",
       "      <td>0.024747</td>\n",
       "      <td>0.200920</td>\n",
       "      <td>-1.085100</td>\n",
       "      <td>-0.136260</td>\n",
       "      <td>0.350520</td>\n",
       "      <td>-0.858910</td>\n",
       "      <td>0.067858</td>\n",
       "      <td>-0.250030</td>\n",
       "      <td>-1.125000</td>\n",
       "      <td>1.586300</td>\n",
       "    </tr>\n",
       "    <tr>\n",
       "      <th>zsombor</th>\n",
       "      <td>-0.758980</td>\n",
       "      <td>-0.474260</td>\n",
       "      <td>0.47370</td>\n",
       "      <td>0.772500</td>\n",
       "      <td>-0.780640</td>\n",
       "      <td>0.232330</td>\n",
       "      <td>0.046114</td>\n",
       "      <td>0.840140</td>\n",
       "      <td>0.243710</td>\n",
       "      <td>0.022978</td>\n",
       "      <td>...</td>\n",
       "      <td>0.454390</td>\n",
       "      <td>-0.842540</td>\n",
       "      <td>0.106500</td>\n",
       "      <td>-0.059397</td>\n",
       "      <td>0.090449</td>\n",
       "      <td>0.305810</td>\n",
       "      <td>-0.614240</td>\n",
       "      <td>0.789540</td>\n",
       "      <td>-0.014116</td>\n",
       "      <td>0.644800</td>\n",
       "    </tr>\n",
       "    <tr>\n",
       "      <th>sandberger</th>\n",
       "      <td>0.072617</td>\n",
       "      <td>-0.513930</td>\n",
       "      <td>0.47280</td>\n",
       "      <td>-0.522020</td>\n",
       "      <td>-0.355340</td>\n",
       "      <td>0.346290</td>\n",
       "      <td>0.232110</td>\n",
       "      <td>0.230960</td>\n",
       "      <td>0.266940</td>\n",
       "      <td>0.410280</td>\n",
       "      <td>...</td>\n",
       "      <td>0.688800</td>\n",
       "      <td>-0.179860</td>\n",
       "      <td>-0.066569</td>\n",
       "      <td>-0.480440</td>\n",
       "      <td>-0.559460</td>\n",
       "      <td>-0.275940</td>\n",
       "      <td>0.056072</td>\n",
       "      <td>-0.189070</td>\n",
       "      <td>-0.590210</td>\n",
       "      <td>0.555590</td>\n",
       "    </tr>\n",
       "  </tbody>\n",
       "</table>\n",
       "<p>326889 rows × 50 columns</p>\n",
       "</div>"
      ],
      "text/plain": [
       "                   1         2        3         4         5         6  \\\n",
       "term_str                                                                \n",
       "the         0.418000  0.249680 -0.41242  0.121700  0.345270 -0.044457   \n",
       "of          0.708530  0.570880 -0.47160  0.180480  0.544490  0.726030   \n",
       "to          0.680470 -0.039263  0.30186 -0.177920  0.429620  0.032246   \n",
       "and         0.268180  0.143460 -0.27877  0.016257  0.113840  0.699230   \n",
       "in          0.330420  0.249950 -0.60874  0.109230  0.036372  0.151000   \n",
       "...              ...       ...      ...       ...       ...       ...   \n",
       "chanty      0.232040  0.025672 -0.70699 -0.045465  0.139890 -0.628070   \n",
       "kronik     -0.609210 -0.672180  0.23521 -0.111950 -0.460940 -0.007462   \n",
       "rolonda    -0.511810  0.058706  1.09130 -0.551630 -0.102490 -0.126500   \n",
       "zsombor    -0.758980 -0.474260  0.47370  0.772500 -0.780640  0.232330   \n",
       "sandberger  0.072617 -0.513930  0.47280 -0.522020 -0.355340  0.346290   \n",
       "\n",
       "                   7         8         9        10  ...        41        42  \\\n",
       "term_str                                            ...                       \n",
       "the        -0.496880 -0.178620 -0.000660 -0.656600  ... -0.298710 -0.157490   \n",
       "of          0.181570 -0.523930  0.103810 -0.175660  ... -0.347270  0.284830   \n",
       "to         -0.413760  0.132280 -0.298470 -0.085253  ... -0.094375  0.018324   \n",
       "and        -0.513320 -0.473680 -0.330750 -0.138340  ... -0.069043  0.368850   \n",
       "in         -0.550830 -0.074239 -0.092307 -0.328210  ... -0.486090 -0.008027   \n",
       "...              ...       ...       ...       ...  ...       ...       ...   \n",
       "chanty      0.726250  0.341080  0.446140  0.163290  ... -0.095526 -0.296050   \n",
       "kronik      0.255780  0.856320  0.055977 -0.237920  ...  0.672050 -0.598220   \n",
       "rolonda     0.995030  0.079711 -0.162460  0.564880  ...  0.024747  0.200920   \n",
       "zsombor     0.046114  0.840140  0.243710  0.022978  ...  0.454390 -0.842540   \n",
       "sandberger  0.232110  0.230960  0.266940  0.410280  ...  0.688800 -0.179860   \n",
       "\n",
       "                  43        44        45        46        47        48  \\\n",
       "term_str                                                                 \n",
       "the        -0.347580 -0.045637 -0.442510  0.187850  0.002785 -0.184110   \n",
       "of          0.075693 -0.062178 -0.389880  0.229020 -0.216170 -0.225620   \n",
       "to          0.210480 -0.030880 -0.197220  0.082279 -0.094340 -0.073297   \n",
       "and         0.251680 -0.245170  0.253810  0.136700 -0.311780 -0.632100   \n",
       "in          0.031184 -0.365760 -0.426990  0.421640 -0.116660 -0.507030   \n",
       "...              ...       ...       ...       ...       ...       ...   \n",
       "chanty      0.385670  0.136840  0.593310 -0.694860  0.124100 -0.180690   \n",
       "kronik     -0.202590  0.392430  0.028873  0.030003 -0.106170 -0.114110   \n",
       "rolonda    -1.085100 -0.136260  0.350520 -0.858910  0.067858 -0.250030   \n",
       "zsombor     0.106500 -0.059397  0.090449  0.305810 -0.614240  0.789540   \n",
       "sandberger -0.066569 -0.480440 -0.559460 -0.275940  0.056072 -0.189070   \n",
       "\n",
       "                  49        50  \n",
       "term_str                        \n",
       "the        -0.115140 -0.785810  \n",
       "of         -0.093918 -0.803750  \n",
       "to         -0.064699 -0.260440  \n",
       "and        -0.250280 -0.380970  \n",
       "in         -0.027273 -0.532850  \n",
       "...              ...       ...  \n",
       "chanty     -0.258300 -0.039673  \n",
       "kronik     -0.249010 -0.120260  \n",
       "rolonda    -1.125000  1.586300  \n",
       "zsombor    -0.014116  0.644800  \n",
       "sandberger -0.590210  0.555590  \n",
       "\n",
       "[326889 rows x 50 columns]"
      ]
     },
     "execution_count": 6,
     "metadata": {},
     "output_type": "execute_result"
    }
   ],
   "source": [
    "glove"
   ]
  },
  {
   "cell_type": "markdown",
   "metadata": {},
   "source": [
    "Still a lot of words!"
   ]
  },
  {
   "cell_type": "markdown",
   "metadata": {
    "tags": []
   },
   "source": [
    "## Define some semantic functions"
   ]
  },
  {
   "cell_type": "code",
   "execution_count": 8,
   "metadata": {},
   "outputs": [],
   "source": [
    "def get_word_vector(term_str):\n",
    "    \"\"\"Get a numpy array from the glove matrix and shape for input into cosine function\"\"\"\n",
    "    wv = glove.loc[term_str].values.reshape(-1, 1).T\n",
    "    return wv\n",
    "\n",
    "def get_dists(term_str, n=10):\n",
    "    \"\"\"Get the top n words for a given word based on cosine similarity\"\"\"\n",
    "    wv = get_word_vector(term_str)\n",
    "    \n",
    "    dists = cosine_distances(glove.values, wv)\n",
    "    \n",
    "    return pd.DataFrame(dists, index=glove.index, columns=['score'])\\\n",
    "        .sort_values('score').head(n)\n",
    "\n",
    "def get_nearest_vector(wv):\n",
    "    \"\"\"Get the nearest word vector to a given word vector\"\"\"\n",
    "    dists = cosine_distances(glove.values, wv)\n",
    "    return pd.DataFrame(dists, index=glove.index, columns=['score'])\\\n",
    "        .sort_values('score').iloc[1]\n",
    "\n",
    "def get_analogy(a, b, c):\n",
    "    \"\"\"Infer missing analogical term\"\"\"\n",
    "    try:\n",
    "        A = get_word_vector(a)\n",
    "        B = get_word_vector(b)\n",
    "        C = get_word_vector(c)\n",
    "        D = np.add(np.subtract(B, A), C)\n",
    "        X = get_nearest_vector(D)\n",
    "        return X.name\n",
    "    except ValueError as e:\n",
    "        print(e)\n",
    "        return None"
   ]
  },
  {
   "cell_type": "markdown",
   "metadata": {
    "tags": []
   },
   "source": [
    "### Test similarity function"
   ]
  },
  {
   "cell_type": "code",
   "execution_count": 9,
   "metadata": {},
   "outputs": [
    {
     "data": {
      "text/html": [
       "<div>\n",
       "<style scoped>\n",
       "    .dataframe tbody tr th:only-of-type {\n",
       "        vertical-align: middle;\n",
       "    }\n",
       "\n",
       "    .dataframe tbody tr th {\n",
       "        vertical-align: top;\n",
       "    }\n",
       "\n",
       "    .dataframe thead th {\n",
       "        text-align: right;\n",
       "    }\n",
       "</style>\n",
       "<table border=\"1\" class=\"dataframe\">\n",
       "  <thead>\n",
       "    <tr style=\"text-align: right;\">\n",
       "      <th></th>\n",
       "      <th>score</th>\n",
       "    </tr>\n",
       "    <tr>\n",
       "      <th>term_str</th>\n",
       "      <th></th>\n",
       "    </tr>\n",
       "  </thead>\n",
       "  <tbody>\n",
       "    <tr>\n",
       "      <th>queen</th>\n",
       "      <td>0.000000</td>\n",
       "    </tr>\n",
       "    <tr>\n",
       "      <th>princess</th>\n",
       "      <td>0.148483</td>\n",
       "    </tr>\n",
       "    <tr>\n",
       "      <th>lady</th>\n",
       "      <td>0.194939</td>\n",
       "    </tr>\n",
       "    <tr>\n",
       "      <th>elizabeth</th>\n",
       "      <td>0.212696</td>\n",
       "    </tr>\n",
       "    <tr>\n",
       "      <th>king</th>\n",
       "      <td>0.216096</td>\n",
       "    </tr>\n",
       "    <tr>\n",
       "      <th>prince</th>\n",
       "      <td>0.217814</td>\n",
       "    </tr>\n",
       "    <tr>\n",
       "      <th>coronation</th>\n",
       "      <td>0.230722</td>\n",
       "    </tr>\n",
       "    <tr>\n",
       "      <th>consort</th>\n",
       "      <td>0.237390</td>\n",
       "    </tr>\n",
       "    <tr>\n",
       "      <th>royal</th>\n",
       "      <td>0.255714</td>\n",
       "    </tr>\n",
       "    <tr>\n",
       "      <th>crown</th>\n",
       "      <td>0.261735</td>\n",
       "    </tr>\n",
       "  </tbody>\n",
       "</table>\n",
       "</div>"
      ],
      "text/plain": [
       "               score\n",
       "term_str            \n",
       "queen       0.000000\n",
       "princess    0.148483\n",
       "lady        0.194939\n",
       "elizabeth   0.212696\n",
       "king        0.216096\n",
       "prince      0.217814\n",
       "coronation  0.230722\n",
       "consort     0.237390\n",
       "royal       0.255714\n",
       "crown       0.261735"
      ]
     },
     "execution_count": 9,
     "metadata": {},
     "output_type": "execute_result"
    }
   ],
   "source": [
    "get_dists('queen')"
   ]
  },
  {
   "cell_type": "code",
   "execution_count": 10,
   "metadata": {},
   "outputs": [
    {
     "data": {
      "text/html": [
       "<div>\n",
       "<style scoped>\n",
       "    .dataframe tbody tr th:only-of-type {\n",
       "        vertical-align: middle;\n",
       "    }\n",
       "\n",
       "    .dataframe tbody tr th {\n",
       "        vertical-align: top;\n",
       "    }\n",
       "\n",
       "    .dataframe thead th {\n",
       "        text-align: right;\n",
       "    }\n",
       "</style>\n",
       "<table border=\"1\" class=\"dataframe\">\n",
       "  <thead>\n",
       "    <tr style=\"text-align: right;\">\n",
       "      <th></th>\n",
       "      <th>score</th>\n",
       "    </tr>\n",
       "    <tr>\n",
       "      <th>term_str</th>\n",
       "      <th></th>\n",
       "    </tr>\n",
       "  </thead>\n",
       "  <tbody>\n",
       "    <tr>\n",
       "      <th>king</th>\n",
       "      <td>0.000000</td>\n",
       "    </tr>\n",
       "    <tr>\n",
       "      <th>prince</th>\n",
       "      <td>0.176382</td>\n",
       "    </tr>\n",
       "    <tr>\n",
       "      <th>queen</th>\n",
       "      <td>0.216096</td>\n",
       "    </tr>\n",
       "    <tr>\n",
       "      <th>ii</th>\n",
       "      <td>0.225377</td>\n",
       "    </tr>\n",
       "    <tr>\n",
       "      <th>emperor</th>\n",
       "      <td>0.226375</td>\n",
       "    </tr>\n",
       "    <tr>\n",
       "      <th>son</th>\n",
       "      <td>0.233281</td>\n",
       "    </tr>\n",
       "    <tr>\n",
       "      <th>uncle</th>\n",
       "      <td>0.237285</td>\n",
       "    </tr>\n",
       "    <tr>\n",
       "      <th>kingdom</th>\n",
       "      <td>0.245784</td>\n",
       "    </tr>\n",
       "    <tr>\n",
       "      <th>throne</th>\n",
       "      <td>0.246009</td>\n",
       "    </tr>\n",
       "    <tr>\n",
       "      <th>brother</th>\n",
       "      <td>0.250759</td>\n",
       "    </tr>\n",
       "  </tbody>\n",
       "</table>\n",
       "</div>"
      ],
      "text/plain": [
       "             score\n",
       "term_str          \n",
       "king      0.000000\n",
       "prince    0.176382\n",
       "queen     0.216096\n",
       "ii        0.225377\n",
       "emperor   0.226375\n",
       "son       0.233281\n",
       "uncle     0.237285\n",
       "kingdom   0.245784\n",
       "throne    0.246009\n",
       "brother   0.250759"
      ]
     },
     "execution_count": 10,
     "metadata": {},
     "output_type": "execute_result"
    }
   ],
   "source": [
    "get_dists('king')"
   ]
  },
  {
   "cell_type": "markdown",
   "metadata": {},
   "source": [
    "## Test analogy functions"
   ]
  },
  {
   "cell_type": "code",
   "execution_count": 11,
   "metadata": {},
   "outputs": [
    {
     "data": {
      "text/plain": [
       "'female'"
      ]
     },
     "execution_count": 11,
     "metadata": {},
     "output_type": "execute_result"
    }
   ],
   "source": [
    "get_analogy('life','death','male')"
   ]
  },
  {
   "cell_type": "code",
   "execution_count": 12,
   "metadata": {},
   "outputs": [
    {
     "data": {
      "text/plain": [
       "'female'"
      ]
     },
     "execution_count": 12,
     "metadata": {},
     "output_type": "execute_result"
    }
   ],
   "source": [
    "get_analogy('dog','male','cat')"
   ]
  },
  {
   "cell_type": "code",
   "execution_count": 12,
   "metadata": {},
   "outputs": [
    {
     "data": {
      "text/plain": [
       "'nurse'"
      ]
     },
     "execution_count": 12,
     "metadata": {},
     "output_type": "execute_result"
    }
   ],
   "source": [
    "get_analogy('male','doctor','female')"
   ]
  },
  {
   "cell_type": "code",
   "execution_count": 13,
   "metadata": {},
   "outputs": [
    {
     "data": {
      "text/plain": [
       "'male'"
      ]
     },
     "execution_count": 13,
     "metadata": {},
     "output_type": "execute_result"
    }
   ],
   "source": [
    "get_analogy('queen','female','king')"
   ]
  },
  {
   "cell_type": "code",
   "execution_count": 14,
   "metadata": {},
   "outputs": [
    {
     "data": {
      "text/plain": [
       "'duchess'"
      ]
     },
     "execution_count": 14,
     "metadata": {},
     "output_type": "execute_result"
    }
   ],
   "source": [
    "get_analogy('female','princess','male')"
   ]
  },
  {
   "cell_type": "code",
   "execution_count": 15,
   "metadata": {},
   "outputs": [
    {
     "data": {
      "text/plain": [
       "'survived'"
      ]
     },
     "execution_count": 15,
     "metadata": {},
     "output_type": "execute_result"
    }
   ],
   "source": [
    "get_analogy('right','left','life')"
   ]
  },
  {
   "cell_type": "code",
   "execution_count": 16,
   "metadata": {},
   "outputs": [
    {
     "data": {
      "text/plain": [
       "'punishment'"
      ]
     },
     "execution_count": 16,
     "metadata": {},
     "output_type": "execute_result"
    }
   ],
   "source": [
    "get_analogy('left','right','death')"
   ]
  },
  {
   "cell_type": "code",
   "execution_count": 17,
   "metadata": {},
   "outputs": [
    {
     "data": {
      "text/plain": [
       "'male'"
      ]
     },
     "execution_count": 17,
     "metadata": {},
     "output_type": "execute_result"
    }
   ],
   "source": [
    "get_analogy('right','left','male')"
   ]
  },
  {
   "cell_type": "code",
   "execution_count": 18,
   "metadata": {},
   "outputs": [
    {
     "data": {
      "text/plain": [
       "'put'"
      ]
     },
     "execution_count": 18,
     "metadata": {},
     "output_type": "execute_result"
    }
   ],
   "source": [
    "get_analogy('male','female','right')"
   ]
  },
  {
   "cell_type": "code",
   "execution_count": 19,
   "metadata": {},
   "outputs": [
    {
     "data": {
      "text/plain": [
       "'male'"
      ]
     },
     "execution_count": 19,
     "metadata": {},
     "output_type": "execute_result"
    }
   ],
   "source": [
    "get_analogy('right','left','male')"
   ]
  },
  {
   "cell_type": "code",
   "execution_count": 20,
   "metadata": {},
   "outputs": [
    {
     "data": {
      "text/plain": [
       "'white'"
      ]
     },
     "execution_count": 20,
     "metadata": {},
     "output_type": "execute_result"
    }
   ],
   "source": [
    "get_analogy('left','right','black')"
   ]
  },
  {
   "cell_type": "code",
   "execution_count": 21,
   "metadata": {},
   "outputs": [
    {
     "data": {
      "text/plain": [
       "'black'"
      ]
     },
     "execution_count": 21,
     "metadata": {},
     "output_type": "execute_result"
    }
   ],
   "source": [
    "get_analogy('left','right','white')"
   ]
  },
  {
   "cell_type": "code",
   "execution_count": 22,
   "metadata": {},
   "outputs": [
    {
     "data": {
      "text/plain": [
       "'female'"
      ]
     },
     "execution_count": 22,
     "metadata": {},
     "output_type": "execute_result"
    }
   ],
   "source": [
    "get_analogy('moon','sun','male')"
   ]
  },
  {
   "cell_type": "code",
   "execution_count": 23,
   "metadata": {},
   "outputs": [
    {
     "data": {
      "text/plain": [
       "'female'"
      ]
     },
     "execution_count": 23,
     "metadata": {},
     "output_type": "execute_result"
    }
   ],
   "source": [
    "get_analogy('moon','sun','female')"
   ]
  },
  {
   "cell_type": "code",
   "execution_count": 24,
   "metadata": {},
   "outputs": [
    {
     "data": {
      "text/plain": [
       "'male'"
      ]
     },
     "execution_count": 24,
     "metadata": {},
     "output_type": "execute_result"
    }
   ],
   "source": [
    "get_analogy('sun','moon','male')"
   ]
  },
  {
   "cell_type": "code",
   "execution_count": 25,
   "metadata": {},
   "outputs": [
    {
     "data": {
      "text/plain": [
       "'sky'"
      ]
     },
     "execution_count": 25,
     "metadata": {},
     "output_type": "execute_result"
    }
   ],
   "source": [
    "get_analogy('day','sun','night')"
   ]
  },
  {
   "cell_type": "code",
   "execution_count": null,
   "metadata": {},
   "outputs": [],
   "source": []
  }
 ],
 "metadata": {
  "hide_input": false,
  "kernelspec": {
   "display_name": "Python 3 (ipykernel)",
   "language": "python",
   "name": "python3"
  },
  "language_info": {
   "codemirror_mode": {
    "name": "ipython",
    "version": 3
   },
   "file_extension": ".py",
   "mimetype": "text/x-python",
   "name": "python",
   "nbconvert_exporter": "python",
   "pygments_lexer": "ipython3",
   "version": "3.10.0"
  },
  "latex_envs": {
   "LaTeX_envs_menu_present": true,
   "autoclose": true,
   "autocomplete": true,
   "bibliofile": "biblio.bib",
   "cite_by": "apalike",
   "current_citInitial": 1,
   "eqLabelWithNumbers": true,
   "eqNumInitial": 1,
   "hotkeys": {
    "equation": "Ctrl-E",
    "itemize": "Ctrl-I"
   },
   "labels_anchors": false,
   "latex_user_defs": false,
   "report_style_numbering": false,
   "user_envs_cfg": false
  },
  "toc": {
   "base_numbering": 1,
   "nav_menu": {},
   "number_sections": true,
   "sideBar": true,
   "skip_h1_title": true,
   "title_cell": "Table of Contents",
   "title_sidebar": "Contents",
   "toc_cell": false,
   "toc_position": {},
   "toc_section_display": true,
   "toc_window_display": true
  },
  "varInspector": {
   "cols": {
    "lenName": 16,
    "lenType": 16,
    "lenVar": 40
   },
   "kernels_config": {
    "python": {
     "delete_cmd_postfix": "",
     "delete_cmd_prefix": "del ",
     "library": "var_list.py",
     "varRefreshCmd": "print(var_dic_list())"
    },
    "r": {
     "delete_cmd_postfix": ") ",
     "delete_cmd_prefix": "rm(",
     "library": "var_list.r",
     "varRefreshCmd": "cat(var_dic_list()) "
    }
   },
   "types_to_exclude": [
    "module",
    "function",
    "builtin_function_or_method",
    "instance",
    "_Feature"
   ],
   "window_display": false
  },
  "widgets": {
   "application/vnd.jupyter.widget-state+json": {
    "state": {},
    "version_major": 2,
    "version_minor": 0
   }
  }
 },
 "nbformat": 4,
 "nbformat_minor": 4
}
