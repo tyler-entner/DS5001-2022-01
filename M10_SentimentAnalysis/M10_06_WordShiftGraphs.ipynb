{
 "cells": [
  {
   "cell_type": "markdown",
   "id": "5ec33da6-d8cd-4afc-a3c6-da45f325b526",
   "metadata": {},
   "source": [
    "# DS 5001 Module 11: Word Shift Graphs\n",
    "\n",
    "See https://ryanjgallagher.github.io/code/word_shift/overview\n",
    "and https://shifterator.readthedocs.io/en/latest/\n",
    "\n",
    "See also SocialSent lexicon https://nlp.stanford.edu/projects/socialsent/"
   ]
  },
  {
   "cell_type": "code",
   "execution_count": 2,
   "id": "8ff8c68e-1008-4965-bbc6-c4e591ac720a",
   "metadata": {},
   "outputs": [],
   "source": [
    "import pandas as pd\n",
    "import shifterator as sh"
   ]
  },
  {
   "cell_type": "code",
   "execution_count": null,
   "id": "fcebb304-8c2e-4622-a2f1-f86e0d5a0b9e",
   "metadata": {},
   "outputs": [],
   "source": []
  }
 ],
 "metadata": {
  "kernelspec": {
   "display_name": "Python 3 (ipykernel)",
   "language": "python",
   "name": "python3"
  },
  "language_info": {
   "codemirror_mode": {
    "name": "ipython",
    "version": 3
   },
   "file_extension": ".py",
   "mimetype": "text/x-python",
   "name": "python",
   "nbconvert_exporter": "python",
   "pygments_lexer": "ipython3",
   "version": "3.10.0"
  },
  "widgets": {
   "application/vnd.jupyter.widget-state+json": {
    "state": {
     "00a775f4e336465ca417db90d4758da3": {
      "model_module": "@jupyter-widgets/controls",
      "model_module_version": "1.5.0",
      "model_name": "ProgressStyleModel",
      "state": {
       "description_width": ""
      }
     },
     "122a053b8c834144a0c20e43d04cb1cb": {
      "model_module": "@jupyter-widgets/controls",
      "model_module_version": "1.5.0",
      "model_name": "ProgressStyleModel",
      "state": {
       "description_width": ""
      }
     },
     "133d647c0b844d369d917144e440104f": {
      "model_module": "@jupyter-widgets/base",
      "model_module_version": "1.2.0",
      "model_name": "LayoutModel",
      "state": {}
     },
     "197ce7a7e9184bbaaab4e97053ac733b": {
      "model_module": "@jupyter-widgets/base",
      "model_module_version": "1.2.0",
      "model_name": "LayoutModel",
      "state": {}
     },
     "1fc420c6358d499b84a8f3eefd24ffb4": {
      "model_module": "@jupyter-widgets/controls",
      "model_module_version": "1.5.0",
      "model_name": "IntProgressModel",
      "state": {
       "description": "Processing: ",
       "layout": "IPY_MODEL_a8d2e157c92e4d3f913e4fe1c28153ef",
       "max": 1127,
       "style": "IPY_MODEL_4bc4ba235e8942ab951eded96386f0b1",
       "value": 1127
      }
     },
     "229a90635aaa49f69fd4d7853ae6096d": {
      "model_module": "@jupyter-widgets/controls",
      "model_module_version": "1.5.0",
      "model_name": "IntProgressModel",
      "state": {
       "description": "Processing: ",
       "layout": "IPY_MODEL_197ce7a7e9184bbaaab4e97053ac733b",
       "max": 11,
       "style": "IPY_MODEL_bb63e0e8099a48c881c0f0dda9a2dc2d",
       "value": 6
      }
     },
     "2b0feaf6aec14d599e2273b3e649e24c": {
      "model_module": "@jupyter-widgets/base",
      "model_module_version": "1.2.0",
      "model_name": "LayoutModel",
      "state": {}
     },
     "2b28a109387b4e778ac4ac267b390126": {
      "model_module": "@jupyter-widgets/controls",
      "model_module_version": "1.5.0",
      "model_name": "IntProgressModel",
      "state": {
       "description": "Processing: ",
       "layout": "IPY_MODEL_82bf7833d06d4894bb77a6144ea948ef",
       "max": 4,
       "style": "IPY_MODEL_ec881d09dcbb449b974375fa4a82865b",
       "value": 4
      }
     },
     "454bd670de1545c1a0307b118d42e9e8": {
      "model_module": "@jupyter-widgets/controls",
      "model_module_version": "1.5.0",
      "model_name": "ProgressStyleModel",
      "state": {
       "description_width": ""
      }
     },
     "4bc4ba235e8942ab951eded96386f0b1": {
      "model_module": "@jupyter-widgets/controls",
      "model_module_version": "1.5.0",
      "model_name": "ProgressStyleModel",
      "state": {
       "description_width": ""
      }
     },
     "4ef2d6fa3dce47338db0327f850c8991": {
      "model_module": "@jupyter-widgets/controls",
      "model_module_version": "1.5.0",
      "model_name": "ProgressStyleModel",
      "state": {
       "description_width": ""
      }
     },
     "51da89f101e84ef4af6c5dafda3aab82": {
      "model_module": "@jupyter-widgets/controls",
      "model_module_version": "1.5.0",
      "model_name": "IntProgressModel",
      "state": {
       "description": "Processing: ",
       "layout": "IPY_MODEL_2b0feaf6aec14d599e2273b3e649e24c",
       "max": 1127,
       "style": "IPY_MODEL_00a775f4e336465ca417db90d4758da3",
       "value": 1127
      }
     },
     "529dc64b14674c6eabed2d3945e27a51": {
      "model_module": "@jupyter-widgets/base",
      "model_module_version": "1.2.0",
      "model_name": "LayoutModel",
      "state": {}
     },
     "661258bf1dcb4a0f9ca8f12e855a5011": {
      "model_module": "@jupyter-widgets/controls",
      "model_module_version": "1.5.0",
      "model_name": "IntProgressModel",
      "state": {
       "description": "Processing: ",
       "layout": "IPY_MODEL_133d647c0b844d369d917144e440104f",
       "max": 1127,
       "style": "IPY_MODEL_8b57262ca7f44383a6dd5ce863c34d05",
       "value": 1127
      }
     },
     "698d0fc1badb4f25afd7721ffb12dea4": {
      "model_module": "@jupyter-widgets/controls",
      "model_module_version": "1.5.0",
      "model_name": "IntProgressModel",
      "state": {
       "description": "Processing: ",
       "layout": "IPY_MODEL_a605e2dee30143e4836fc82a80444618",
       "max": 11,
       "style": "IPY_MODEL_454bd670de1545c1a0307b118d42e9e8",
       "value": 11
      }
     },
     "804ef796dc214cc6812eaf240853c955": {
      "model_module": "@jupyter-widgets/controls",
      "model_module_version": "1.5.0",
      "model_name": "IntProgressModel",
      "state": {
       "description": "Processing: ",
       "layout": "IPY_MODEL_f41107120b3448bebd24cd00329a210b",
       "max": 4,
       "style": "IPY_MODEL_861a5a9b80c04ac992d191aab678cfef",
       "value": 4
      }
     },
     "813c091b6b7e4d9ebb9b04a4a4ef7c05": {
      "model_module": "@jupyter-widgets/controls",
      "model_module_version": "1.5.0",
      "model_name": "IntProgressModel",
      "state": {
       "description": "Processing: ",
       "layout": "IPY_MODEL_cab01773d3a940c5903219d0b48882a4",
       "max": 11,
       "style": "IPY_MODEL_4ef2d6fa3dce47338db0327f850c8991",
       "value": 11
      }
     },
     "82bf7833d06d4894bb77a6144ea948ef": {
      "model_module": "@jupyter-widgets/base",
      "model_module_version": "1.2.0",
      "model_name": "LayoutModel",
      "state": {}
     },
     "861a5a9b80c04ac992d191aab678cfef": {
      "model_module": "@jupyter-widgets/controls",
      "model_module_version": "1.5.0",
      "model_name": "ProgressStyleModel",
      "state": {
       "description_width": ""
      }
     },
     "8b57262ca7f44383a6dd5ce863c34d05": {
      "model_module": "@jupyter-widgets/controls",
      "model_module_version": "1.5.0",
      "model_name": "ProgressStyleModel",
      "state": {
       "description_width": ""
      }
     },
     "a605e2dee30143e4836fc82a80444618": {
      "model_module": "@jupyter-widgets/base",
      "model_module_version": "1.2.0",
      "model_name": "LayoutModel",
      "state": {}
     },
     "a8d2e157c92e4d3f913e4fe1c28153ef": {
      "model_module": "@jupyter-widgets/base",
      "model_module_version": "1.2.0",
      "model_name": "LayoutModel",
      "state": {}
     },
     "bb63e0e8099a48c881c0f0dda9a2dc2d": {
      "model_module": "@jupyter-widgets/controls",
      "model_module_version": "1.5.0",
      "model_name": "ProgressStyleModel",
      "state": {
       "description_width": ""
      }
     },
     "cab01773d3a940c5903219d0b48882a4": {
      "model_module": "@jupyter-widgets/base",
      "model_module_version": "1.2.0",
      "model_name": "LayoutModel",
      "state": {}
     },
     "dd43a9e2f0464159bf16628db51df126": {
      "model_module": "@jupyter-widgets/controls",
      "model_module_version": "1.5.0",
      "model_name": "IntProgressModel",
      "state": {
       "description": "Processing: ",
       "layout": "IPY_MODEL_529dc64b14674c6eabed2d3945e27a51",
       "max": 4,
       "style": "IPY_MODEL_122a053b8c834144a0c20e43d04cb1cb",
       "value": 4
      }
     },
     "ec881d09dcbb449b974375fa4a82865b": {
      "model_module": "@jupyter-widgets/controls",
      "model_module_version": "1.5.0",
      "model_name": "ProgressStyleModel",
      "state": {
       "description_width": ""
      }
     },
     "f41107120b3448bebd24cd00329a210b": {
      "model_module": "@jupyter-widgets/base",
      "model_module_version": "1.2.0",
      "model_name": "LayoutModel",
      "state": {}
     }
    },
    "version_major": 2,
    "version_minor": 0
   }
  }
 },
 "nbformat": 4,
 "nbformat_minor": 5
}
