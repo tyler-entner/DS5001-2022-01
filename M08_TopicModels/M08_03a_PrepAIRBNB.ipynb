{
 "cells": [
  {
   "cell_type": "markdown",
   "id": "8ffa8ecb-4ec6-4503-96dd-76ddd2c508d0",
   "metadata": {},
   "source": [
    "# Metadata\n",
    "\n",
    "```\n",
    "Course:   DS 5001\n",
    "Module:   08 Lab\n",
    "Topic:    Prepare AirBnB data with SpaCy\n",
    "Author:   R.C. Alvarado\n",
    "```"
   ]
  },
  {
   "cell_type": "markdown",
   "id": "661eb4ce-f077-40dd-82c6-f7287809942a",
   "metadata": {},
   "source": [
    "# Set Up"
   ]
  },
  {
   "cell_type": "code",
   "execution_count": 1,
   "id": "d5f574cf-2b6c-4f49-a7b7-8568dfc3cb07",
   "metadata": {},
   "outputs": [],
   "source": [
    "data_home = \"../data\"\n",
    "local_lib = \"../lib\""
   ]
  },
  {
   "cell_type": "code",
   "execution_count": 2,
   "id": "a3a64276-38f5-48e4-8742-2915c1326085",
   "metadata": {},
   "outputs": [
    {
     "name": "stdout",
     "output_type": "stream",
     "text": [
      "airbnb-BOW.csv airbnb-LIB.csv airbnb.csv\n"
     ]
    }
   ],
   "source": [
    "!ls {data_home}/airbnb"
   ]
  },
  {
   "cell_type": "code",
   "execution_count": 39,
   "id": "7bcf3a74-8d76-4160-852c-f0c96cf12b94",
   "metadata": {},
   "outputs": [],
   "source": [
    "import pandas as pd\n",
    "import numpy as np\n",
    "import spacy\n",
    "from tqdm import tqdm\n",
    "import sys; sys.path.append(local_lib)"
   ]
  },
  {
   "cell_type": "code",
   "execution_count": 4,
   "id": "71c43044-1526-4f05-b0d6-af0451224aa7",
   "metadata": {},
   "outputs": [],
   "source": [
    "from topicmodel import TopicModel"
   ]
  },
  {
   "cell_type": "markdown",
   "id": "72abadf2-3352-4e7c-ae64-d1d8554cd6ae",
   "metadata": {},
   "source": [
    "# Get Data"
   ]
  },
  {
   "cell_type": "code",
   "execution_count": 5,
   "id": "f28f0fdb-b485-4fea-adbd-b98cac3ac254",
   "metadata": {},
   "outputs": [],
   "source": [
    "ABB = pd.read_csv(f\"{data_home}/airbnb/airbnb.csv\", sep=\"|\")"
   ]
  },
  {
   "cell_type": "code",
   "execution_count": 6,
   "id": "1cb19155-9a40-49f2-88d7-e1f2699d7d85",
   "metadata": {},
   "outputs": [],
   "source": [
    "ABB.index.name = 'doc_id'"
   ]
  },
  {
   "cell_type": "code",
   "execution_count": 37,
   "id": "a39b8ad8-814b-46e3-b86f-063e8a507bfc",
   "metadata": {},
   "outputs": [
    {
     "data": {
      "text/html": [
       "<div>\n",
       "<style scoped>\n",
       "    .dataframe tbody tr th:only-of-type {\n",
       "        vertical-align: middle;\n",
       "    }\n",
       "\n",
       "    .dataframe tbody tr th {\n",
       "        vertical-align: top;\n",
       "    }\n",
       "\n",
       "    .dataframe thead th {\n",
       "        text-align: right;\n",
       "    }\n",
       "</style>\n",
       "<table border=\"1\" class=\"dataframe\">\n",
       "  <thead>\n",
       "    <tr style=\"text-align: right;\">\n",
       "      <th></th>\n",
       "      <th>doc_key</th>\n",
       "      <th>doc_title</th>\n",
       "      <th>doc_date</th>\n",
       "      <th>doc_year</th>\n",
       "      <th>doc_month</th>\n",
       "      <th>doc_country</th>\n",
       "      <th>doc_label</th>\n",
       "      <th>doc_price</th>\n",
       "      <th>doc_rating</th>\n",
       "      <th>doc_content</th>\n",
       "      <th>doc_original</th>\n",
       "    </tr>\n",
       "    <tr>\n",
       "      <th>doc_id</th>\n",
       "      <th></th>\n",
       "      <th></th>\n",
       "      <th></th>\n",
       "      <th></th>\n",
       "      <th></th>\n",
       "      <th></th>\n",
       "      <th></th>\n",
       "      <th></th>\n",
       "      <th></th>\n",
       "      <th></th>\n",
       "      <th></th>\n",
       "    </tr>\n",
       "  </thead>\n",
       "  <tbody>\n",
       "    <tr>\n",
       "      <th>0</th>\n",
       "      <td>375799</td>\n",
       "      <td>United Kingdom, New Malden, 2015-09-02</td>\n",
       "      <td>2015-09-02</td>\n",
       "      <td>2015</td>\n",
       "      <td>9</td>\n",
       "      <td>United Kingdom</td>\n",
       "      <td>New Malden</td>\n",
       "      <td>80</td>\n",
       "      <td>98.0</td>\n",
       "      <td>Comfortable, 1 Bedroom Apartment On quiet stre...</td>\n",
       "      <td>Comfortable, 1 Bedroom Apartment On quiet stre...</td>\n",
       "    </tr>\n",
       "    <tr>\n",
       "      <th>1</th>\n",
       "      <td>2284438</td>\n",
       "      <td>United Kingdom, Kingston upon Thames, 2015-09-02</td>\n",
       "      <td>2015-09-02</td>\n",
       "      <td>2015</td>\n",
       "      <td>9</td>\n",
       "      <td>United Kingdom</td>\n",
       "      <td>Kingston upon Thames</td>\n",
       "      <td>43</td>\n",
       "      <td>97.0</td>\n",
       "      <td>The room is in a modern 1 bedroom flat with of...</td>\n",
       "      <td>The room is in a modern 1 bedroom flat with of...</td>\n",
       "    </tr>\n",
       "    <tr>\n",
       "      <th>2</th>\n",
       "      <td>4356007</td>\n",
       "      <td>United Kingdom, Kingston upon Thames, 2015-09-02</td>\n",
       "      <td>2015-09-02</td>\n",
       "      <td>2015</td>\n",
       "      <td>9</td>\n",
       "      <td>United Kingdom</td>\n",
       "      <td>Kingston upon Thames</td>\n",
       "      <td>325</td>\n",
       "      <td>100.0</td>\n",
       "      <td>Our family home offers 2 double bedrooms with ...</td>\n",
       "      <td>Our family home offers 2 double bedrooms with ...</td>\n",
       "    </tr>\n",
       "    <tr>\n",
       "      <th>3</th>\n",
       "      <td>7031432</td>\n",
       "      <td>United Kingdom, Kingston upon Thames, 2015-09-02</td>\n",
       "      <td>2015-09-02</td>\n",
       "      <td>2015</td>\n",
       "      <td>9</td>\n",
       "      <td>United Kingdom</td>\n",
       "      <td>Kingston upon Thames</td>\n",
       "      <td>47</td>\n",
       "      <td>NaN</td>\n",
       "      <td>The is a basic ground floor bedroom in a recen...</td>\n",
       "      <td>The is a basic ground floor bedroom in a recen...</td>\n",
       "    </tr>\n",
       "    <tr>\n",
       "      <th>4</th>\n",
       "      <td>7208109</td>\n",
       "      <td>United Kingdom, New Malden, 2015-09-02</td>\n",
       "      <td>2015-09-02</td>\n",
       "      <td>2015</td>\n",
       "      <td>9</td>\n",
       "      <td>United Kingdom</td>\n",
       "      <td>New Malden</td>\n",
       "      <td>25</td>\n",
       "      <td>NaN</td>\n",
       "      <td>This room has a ensuite shower room, wardrobe,...</td>\n",
       "      <td>This room has a ensuite shower room, wardrobe,...</td>\n",
       "    </tr>\n",
       "  </tbody>\n",
       "</table>\n",
       "</div>"
      ],
      "text/plain": [
       "        doc_key                                         doc_title    doc_date  \\\n",
       "doc_id                                                                          \n",
       "0        375799            United Kingdom, New Malden, 2015-09-02  2015-09-02   \n",
       "1       2284438  United Kingdom, Kingston upon Thames, 2015-09-02  2015-09-02   \n",
       "2       4356007  United Kingdom, Kingston upon Thames, 2015-09-02  2015-09-02   \n",
       "3       7031432  United Kingdom, Kingston upon Thames, 2015-09-02  2015-09-02   \n",
       "4       7208109            United Kingdom, New Malden, 2015-09-02  2015-09-02   \n",
       "\n",
       "        doc_year  doc_month     doc_country             doc_label  doc_price  \\\n",
       "doc_id                                                                         \n",
       "0           2015          9  United Kingdom            New Malden         80   \n",
       "1           2015          9  United Kingdom  Kingston upon Thames         43   \n",
       "2           2015          9  United Kingdom  Kingston upon Thames        325   \n",
       "3           2015          9  United Kingdom  Kingston upon Thames         47   \n",
       "4           2015          9  United Kingdom            New Malden         25   \n",
       "\n",
       "        doc_rating                                        doc_content  \\\n",
       "doc_id                                                                  \n",
       "0             98.0  Comfortable, 1 Bedroom Apartment On quiet stre...   \n",
       "1             97.0  The room is in a modern 1 bedroom flat with of...   \n",
       "2            100.0  Our family home offers 2 double bedrooms with ...   \n",
       "3              NaN  The is a basic ground floor bedroom in a recen...   \n",
       "4              NaN  This room has a ensuite shower room, wardrobe,...   \n",
       "\n",
       "                                             doc_original  \n",
       "doc_id                                                     \n",
       "0       Comfortable, 1 Bedroom Apartment On quiet stre...  \n",
       "1       The room is in a modern 1 bedroom flat with of...  \n",
       "2       Our family home offers 2 double bedrooms with ...  \n",
       "3       The is a basic ground floor bedroom in a recen...  \n",
       "4       This room has a ensuite shower room, wardrobe,...  "
      ]
     },
     "execution_count": 37,
     "metadata": {},
     "output_type": "execute_result"
    }
   ],
   "source": [
    "ABB.head()"
   ]
  },
  {
   "cell_type": "code",
   "execution_count": 7,
   "id": "c5b1c5ea-f55d-4d21-bab8-aa247c483b66",
   "metadata": {},
   "outputs": [
    {
     "data": {
      "text/plain": [
       "doc_country     doc_year\n",
       "France          2015        35427\n",
       "United States   2015        28509\n",
       "United Kingdom  2015        25361\n",
       "Mexico          2015            1\n",
       "Vanuatu         2015            1\n",
       "dtype: int64"
      ]
     },
     "execution_count": 7,
     "metadata": {},
     "output_type": "execute_result"
    }
   ],
   "source": [
    "ABB.value_counts(['doc_country','doc_year'])"
   ]
  },
  {
   "cell_type": "code",
   "execution_count": 8,
   "id": "ee2d41cc-2e6c-4d6d-a501-9dbb4d9f2bcb",
   "metadata": {},
   "outputs": [],
   "source": [
    "UK = ABB[ABB.doc_country == 'United Kingdom'].copy().dropna()"
   ]
  },
  {
   "cell_type": "code",
   "execution_count": 9,
   "id": "0b2d6663-377c-443a-bcac-7c0ff72f46ee",
   "metadata": {},
   "outputs": [
    {
     "data": {
      "text/plain": [
       "doc_id\n",
       "0        Comfortable, 1 Bedroom Apartment On quiet stre...\n",
       "1        The room is in a modern 1 bedroom flat with of...\n",
       "2        Our family home offers 2 double bedrooms with ...\n",
       "7        Stay in my lovely, light and airy home, close ...\n",
       "8        This room has a door opening out onto the back...\n",
       "                               ...                        \n",
       "25353    Welcome to your lovely cosy double room locate...\n",
       "25354    This beautiful location is on London's Southba...\n",
       "25356    A wonderful barge suitable for either a single...\n",
       "25357    Our newly re-furnished flat in central London ...\n",
       "25360    This is an amazing new flat in the heart of le...\n",
       "Name: doc_content, Length: 17369, dtype: object"
      ]
     },
     "execution_count": 9,
     "metadata": {},
     "output_type": "execute_result"
    }
   ],
   "source": [
    "UK.doc_content"
   ]
  },
  {
   "cell_type": "code",
   "execution_count": 38,
   "id": "bb76d5a4-8e07-4695-bc8b-d790809f98af",
   "metadata": {},
   "outputs": [
    {
     "data": {
      "text/plain": [
       "17369"
      ]
     },
     "execution_count": 38,
     "metadata": {},
     "output_type": "execute_result"
    }
   ],
   "source": [
    "len(UK)"
   ]
  },
  {
   "cell_type": "code",
   "execution_count": 10,
   "id": "0e53ab3d-40f5-4d30-9d00-2ca4de8cfc33",
   "metadata": {},
   "outputs": [],
   "source": [
    "# UK.to_csv(f\"{data_home}/output/airbnb-uk-LIB.csv\")"
   ]
  },
  {
   "cell_type": "markdown",
   "id": "c98b8daf-7aff-4abc-8f60-05ff42cfa5ad",
   "metadata": {
    "tags": []
   },
   "source": [
    "# Annotate with SpaCy"
   ]
  },
  {
   "cell_type": "code",
   "execution_count": 43,
   "id": "6a865a33-9c4f-449c-b7f5-28382024b676",
   "metadata": {},
   "outputs": [
    {
     "name": "stderr",
     "output_type": "stream",
     "text": [
      "17369it [05:03, 57.26it/s]\n"
     ]
    }
   ],
   "source": [
    "# docs = UK.sample(1000).doc_original.astype('str').values\n",
    "docs = UK.doc_original.astype('str').values\n",
    "stats_package = 'en_core_web_sm'\n",
    "# pipeline = [\"tok2vec\", \"tagger\", \"parser\", \"ner\"]\n",
    "nlp = spacy.load(stats_package)\n",
    "DOCS = [doc.to_json() for doc in tqdm(nlp.pipe(docs))]"
   ]
  },
  {
   "cell_type": "code",
   "execution_count": 41,
   "id": "c77de88b-2772-4fe9-9149-4a50ce189c6f",
   "metadata": {},
   "outputs": [
    {
     "data": {
      "text/plain": [
       "['text', 'ents', 'sents', 'tokens']"
      ]
     },
     "execution_count": 41,
     "metadata": {},
     "output_type": "execute_result"
    }
   ],
   "source": [
    "features = list(DOCS[0].keys()); features"
   ]
  },
  {
   "cell_type": "code",
   "execution_count": null,
   "id": "f476f75e-74d6-4d2a-a9d1-ad391027a90b",
   "metadata": {},
   "outputs": [],
   "source": [
    "l"
   ]
  },
  {
   "cell_type": "code",
   "execution_count": 42,
   "id": "36787ec9-aaa7-4135-8825-68366e86da95",
   "metadata": {},
   "outputs": [
    {
     "data": {
      "text/plain": [
       "\"Wonderfully tranquil, bright and centrally located garden flat set in a quiet road within an 8 minute walk of Fulham Broadway underground. Pamper yourself in this luxurious and newly renovated flat with 42' TV, king size bed and south facing garden. A quiet, comfortable, luxurious and convenient, centrally located 2 double bedroom apartment offers splendid accommodation for up to 6 guests. The flat comprises a lounge, open plan kitchen with dining area, a master bedroom with king size bed, 2nd double bedroom with French doors leading out, a newly tiled bathroom and a south facing garden. The lounge has a very comfortable and large corner sofa which converts into a king size bed (photographed) .There is also a new Samsung 42' Flat Screen TV for relaxing. Off site luggage storage available at extra cost for early arrivals or late departures. Ask for details. The apartment benefits from being supplied with fresh, starched white linen and towels for each stay by the same company that supp\""
      ]
     },
     "execution_count": 42,
     "metadata": {},
     "output_type": "execute_result"
    }
   ],
   "source": [
    "DOCS[0]['text']"
   ]
  },
  {
   "cell_type": "markdown",
   "id": "093727b9-c0c5-4e06-95b4-90adc9e83ca0",
   "metadata": {},
   "source": [
    "# Convert Output to Data Frames"
   ]
  },
  {
   "cell_type": "code",
   "execution_count": 14,
   "id": "d6125306-9b3b-4f13-bdcf-a361741db7e8",
   "metadata": {},
   "outputs": [],
   "source": [
    "class Corpus(): pass"
   ]
  },
  {
   "cell_type": "code",
   "execution_count": 15,
   "id": "6d8cc3fd-7fe1-49fc-b41a-81af8ad8e051",
   "metadata": {},
   "outputs": [],
   "source": [
    "corpus = Corpus()        \n",
    "corpus.TEXT = pd.DataFrame([(i, x['text']) for i, x in enumerate(DOCS)], columns=['doc_id','text_str']).set_index('doc_id')"
   ]
  },
  {
   "cell_type": "code",
   "execution_count": 24,
   "id": "e2816b58-e871-4a51-b81f-207de3a61658",
   "metadata": {},
   "outputs": [
    {
     "data": {
      "text/html": [
       "<div>\n",
       "<style scoped>\n",
       "    .dataframe tbody tr th:only-of-type {\n",
       "        vertical-align: middle;\n",
       "    }\n",
       "\n",
       "    .dataframe tbody tr th {\n",
       "        vertical-align: top;\n",
       "    }\n",
       "\n",
       "    .dataframe thead th {\n",
       "        text-align: right;\n",
       "    }\n",
       "</style>\n",
       "<table border=\"1\" class=\"dataframe\">\n",
       "  <thead>\n",
       "    <tr style=\"text-align: right;\">\n",
       "      <th></th>\n",
       "      <th>text_str</th>\n",
       "    </tr>\n",
       "    <tr>\n",
       "      <th>doc_id</th>\n",
       "      <th></th>\n",
       "    </tr>\n",
       "  </thead>\n",
       "  <tbody>\n",
       "    <tr>\n",
       "      <th>0</th>\n",
       "      <td>Single Room, with own bathroom adjacent not sh...</td>\n",
       "    </tr>\n",
       "    <tr>\n",
       "      <th>1</th>\n",
       "      <td>A sweet cosy and well proportioned one bedroom...</td>\n",
       "    </tr>\n",
       "    <tr>\n",
       "      <th>2</th>\n",
       "      <td>Little quiet studio in Zone 1 in London Centra...</td>\n",
       "    </tr>\n",
       "    <tr>\n",
       "      <th>3</th>\n",
       "      <td>Located within walking distance to Beckton sta...</td>\n",
       "    </tr>\n",
       "    <tr>\n",
       "      <th>4</th>\n",
       "      <td>This is your chance to live in the coolest nei...</td>\n",
       "    </tr>\n",
       "  </tbody>\n",
       "</table>\n",
       "</div>"
      ],
      "text/plain": [
       "                                                 text_str\n",
       "doc_id                                                   \n",
       "0       Single Room, with own bathroom adjacent not sh...\n",
       "1       A sweet cosy and well proportioned one bedroom...\n",
       "2       Little quiet studio in Zone 1 in London Centra...\n",
       "3       Located within walking distance to Beckton sta...\n",
       "4       This is your chance to live in the coolest nei..."
      ]
     },
     "execution_count": 24,
     "metadata": {},
     "output_type": "execute_result"
    }
   ],
   "source": [
    "corpus.TEXT.head()"
   ]
  },
  {
   "cell_type": "code",
   "execution_count": 17,
   "id": "47b121ba-8068-40fb-a0fc-180a8f28e7a1",
   "metadata": {},
   "outputs": [],
   "source": [
    "corpus.TOKEN = pd.concat([pd.DataFrame(x['tokens']) for x in DOCS])"
   ]
  },
  {
   "cell_type": "code",
   "execution_count": 18,
   "id": "8a21b06c-b91e-4200-bb61-ec18c5555cac",
   "metadata": {},
   "outputs": [],
   "source": [
    "corpus.TOKEN.loc[corpus.TOKEN.id == 0, 'doc_id'] = [i for i in range(1000)]"
   ]
  },
  {
   "cell_type": "code",
   "execution_count": 19,
   "id": "b9802518-6772-4ed1-9a4f-24f68b1997d4",
   "metadata": {},
   "outputs": [],
   "source": [
    "corpus.TOKEN.doc_id = corpus.TOKEN.doc_id.ffill()"
   ]
  },
  {
   "cell_type": "code",
   "execution_count": 20,
   "id": "0ebfbb8f-8d44-4782-9ebe-a7d7bae8a434",
   "metadata": {},
   "outputs": [
    {
     "data": {
      "text/html": [
       "<div>\n",
       "<style scoped>\n",
       "    .dataframe tbody tr th:only-of-type {\n",
       "        vertical-align: middle;\n",
       "    }\n",
       "\n",
       "    .dataframe tbody tr th {\n",
       "        vertical-align: top;\n",
       "    }\n",
       "\n",
       "    .dataframe thead th {\n",
       "        text-align: right;\n",
       "    }\n",
       "</style>\n",
       "<table border=\"1\" class=\"dataframe\">\n",
       "  <thead>\n",
       "    <tr style=\"text-align: right;\">\n",
       "      <th></th>\n",
       "      <th>id</th>\n",
       "      <th>start</th>\n",
       "      <th>end</th>\n",
       "      <th>tag</th>\n",
       "      <th>pos</th>\n",
       "      <th>morph</th>\n",
       "      <th>lemma</th>\n",
       "      <th>dep</th>\n",
       "      <th>head</th>\n",
       "      <th>doc_id</th>\n",
       "    </tr>\n",
       "  </thead>\n",
       "  <tbody>\n",
       "    <tr>\n",
       "      <th>0</th>\n",
       "      <td>0</td>\n",
       "      <td>0</td>\n",
       "      <td>6</td>\n",
       "      <td>NNP</td>\n",
       "      <td>PROPN</td>\n",
       "      <td>Number=Sing</td>\n",
       "      <td>Single</td>\n",
       "      <td>compound</td>\n",
       "      <td>1</td>\n",
       "      <td>0.0</td>\n",
       "    </tr>\n",
       "    <tr>\n",
       "      <th>1</th>\n",
       "      <td>1</td>\n",
       "      <td>7</td>\n",
       "      <td>11</td>\n",
       "      <td>NNP</td>\n",
       "      <td>PROPN</td>\n",
       "      <td>Number=Sing</td>\n",
       "      <td>Room</td>\n",
       "      <td>nsubj</td>\n",
       "      <td>8</td>\n",
       "      <td>0.0</td>\n",
       "    </tr>\n",
       "    <tr>\n",
       "      <th>2</th>\n",
       "      <td>2</td>\n",
       "      <td>11</td>\n",
       "      <td>12</td>\n",
       "      <td>,</td>\n",
       "      <td>PUNCT</td>\n",
       "      <td>PunctType=Comm</td>\n",
       "      <td>,</td>\n",
       "      <td>punct</td>\n",
       "      <td>1</td>\n",
       "      <td>0.0</td>\n",
       "    </tr>\n",
       "    <tr>\n",
       "      <th>3</th>\n",
       "      <td>3</td>\n",
       "      <td>13</td>\n",
       "      <td>17</td>\n",
       "      <td>IN</td>\n",
       "      <td>ADP</td>\n",
       "      <td></td>\n",
       "      <td>with</td>\n",
       "      <td>prep</td>\n",
       "      <td>1</td>\n",
       "      <td>0.0</td>\n",
       "    </tr>\n",
       "    <tr>\n",
       "      <th>4</th>\n",
       "      <td>4</td>\n",
       "      <td>18</td>\n",
       "      <td>21</td>\n",
       "      <td>JJ</td>\n",
       "      <td>ADJ</td>\n",
       "      <td>Degree=Pos</td>\n",
       "      <td>own</td>\n",
       "      <td>amod</td>\n",
       "      <td>5</td>\n",
       "      <td>0.0</td>\n",
       "    </tr>\n",
       "    <tr>\n",
       "      <th>...</th>\n",
       "      <td>...</td>\n",
       "      <td>...</td>\n",
       "      <td>...</td>\n",
       "      <td>...</td>\n",
       "      <td>...</td>\n",
       "      <td>...</td>\n",
       "      <td>...</td>\n",
       "      <td>...</td>\n",
       "      <td>...</td>\n",
       "      <td>...</td>\n",
       "    </tr>\n",
       "    <tr>\n",
       "      <th>203</th>\n",
       "      <td>203</td>\n",
       "      <td>966</td>\n",
       "      <td>972</td>\n",
       "      <td>NNP</td>\n",
       "      <td>PROPN</td>\n",
       "      <td>Number=Sing</td>\n",
       "      <td>Tumble</td>\n",
       "      <td>compound</td>\n",
       "      <td>204</td>\n",
       "      <td>999.0</td>\n",
       "    </tr>\n",
       "    <tr>\n",
       "      <th>204</th>\n",
       "      <td>204</td>\n",
       "      <td>973</td>\n",
       "      <td>978</td>\n",
       "      <td>NNP</td>\n",
       "      <td>PROPN</td>\n",
       "      <td>Number=Sing</td>\n",
       "      <td>Dryer</td>\n",
       "      <td>conj</td>\n",
       "      <td>201</td>\n",
       "      <td>999.0</td>\n",
       "    </tr>\n",
       "    <tr>\n",
       "      <th>205</th>\n",
       "      <td>205</td>\n",
       "      <td>978</td>\n",
       "      <td>979</td>\n",
       "      <td>,</td>\n",
       "      <td>PUNCT</td>\n",
       "      <td>PunctType=Comm</td>\n",
       "      <td>,</td>\n",
       "      <td>punct</td>\n",
       "      <td>204</td>\n",
       "      <td>999.0</td>\n",
       "    </tr>\n",
       "    <tr>\n",
       "      <th>206</th>\n",
       "      <td>206</td>\n",
       "      <td>980</td>\n",
       "      <td>987</td>\n",
       "      <td>NNP</td>\n",
       "      <td>PROPN</td>\n",
       "      <td>Number=Sing</td>\n",
       "      <td>Washing</td>\n",
       "      <td>compound</td>\n",
       "      <td>207</td>\n",
       "      <td>999.0</td>\n",
       "    </tr>\n",
       "    <tr>\n",
       "      <th>207</th>\n",
       "      <td>207</td>\n",
       "      <td>988</td>\n",
       "      <td>992</td>\n",
       "      <td>NNP</td>\n",
       "      <td>PROPN</td>\n",
       "      <td>Number=Sing</td>\n",
       "      <td>Mach</td>\n",
       "      <td>appos</td>\n",
       "      <td>195</td>\n",
       "      <td>999.0</td>\n",
       "    </tr>\n",
       "  </tbody>\n",
       "</table>\n",
       "<p>173501 rows × 10 columns</p>\n",
       "</div>"
      ],
      "text/plain": [
       "      id  start  end  tag    pos           morph    lemma       dep  head  \\\n",
       "0      0      0    6  NNP  PROPN     Number=Sing   Single  compound     1   \n",
       "1      1      7   11  NNP  PROPN     Number=Sing     Room     nsubj     8   \n",
       "2      2     11   12    ,  PUNCT  PunctType=Comm        ,     punct     1   \n",
       "3      3     13   17   IN    ADP                     with      prep     1   \n",
       "4      4     18   21   JJ    ADJ      Degree=Pos      own      amod     5   \n",
       "..   ...    ...  ...  ...    ...             ...      ...       ...   ...   \n",
       "203  203    966  972  NNP  PROPN     Number=Sing   Tumble  compound   204   \n",
       "204  204    973  978  NNP  PROPN     Number=Sing    Dryer      conj   201   \n",
       "205  205    978  979    ,  PUNCT  PunctType=Comm        ,     punct   204   \n",
       "206  206    980  987  NNP  PROPN     Number=Sing  Washing  compound   207   \n",
       "207  207    988  992  NNP  PROPN     Number=Sing     Mach     appos   195   \n",
       "\n",
       "     doc_id  \n",
       "0       0.0  \n",
       "1       0.0  \n",
       "2       0.0  \n",
       "3       0.0  \n",
       "4       0.0  \n",
       "..      ...  \n",
       "203   999.0  \n",
       "204   999.0  \n",
       "205   999.0  \n",
       "206   999.0  \n",
       "207   999.0  \n",
       "\n",
       "[173501 rows x 10 columns]"
      ]
     },
     "execution_count": 20,
     "metadata": {},
     "output_type": "execute_result"
    }
   ],
   "source": [
    "corpus.TOKEN"
   ]
  },
  {
   "cell_type": "code",
   "execution_count": 25,
   "id": "259c3f5e-b18c-4361-8ea2-74518da6fdde",
   "metadata": {},
   "outputs": [],
   "source": [
    "corpus.TOKEN['token_str'] = corpus.TOKEN.apply(lambda x: corpus.TEXT.text_str.values[0][x.start:x.end], 1)\n",
    "corpus.TOKEN = corpus.TOKEN.reset_index().rename(columns=dict(index='token_num')).set_index(['doc_id','token_num'])"
   ]
  },
  {
   "cell_type": "code",
   "execution_count": 26,
   "id": "6458b828-f057-4df3-8df4-c11c0569bc73",
   "metadata": {},
   "outputs": [
    {
     "data": {
      "text/html": [
       "<div>\n",
       "<style scoped>\n",
       "    .dataframe tbody tr th:only-of-type {\n",
       "        vertical-align: middle;\n",
       "    }\n",
       "\n",
       "    .dataframe tbody tr th {\n",
       "        vertical-align: top;\n",
       "    }\n",
       "\n",
       "    .dataframe thead th {\n",
       "        text-align: right;\n",
       "    }\n",
       "</style>\n",
       "<table border=\"1\" class=\"dataframe\">\n",
       "  <thead>\n",
       "    <tr style=\"text-align: right;\">\n",
       "      <th></th>\n",
       "      <th></th>\n",
       "      <th>id</th>\n",
       "      <th>start</th>\n",
       "      <th>end</th>\n",
       "      <th>tag</th>\n",
       "      <th>pos</th>\n",
       "      <th>morph</th>\n",
       "      <th>lemma</th>\n",
       "      <th>dep</th>\n",
       "      <th>head</th>\n",
       "      <th>token_str</th>\n",
       "    </tr>\n",
       "    <tr>\n",
       "      <th>doc_id</th>\n",
       "      <th>token_num</th>\n",
       "      <th></th>\n",
       "      <th></th>\n",
       "      <th></th>\n",
       "      <th></th>\n",
       "      <th></th>\n",
       "      <th></th>\n",
       "      <th></th>\n",
       "      <th></th>\n",
       "      <th></th>\n",
       "      <th></th>\n",
       "    </tr>\n",
       "  </thead>\n",
       "  <tbody>\n",
       "    <tr>\n",
       "      <th rowspan=\"5\" valign=\"top\">0.0</th>\n",
       "      <th>0</th>\n",
       "      <td>0</td>\n",
       "      <td>0</td>\n",
       "      <td>6</td>\n",
       "      <td>NNP</td>\n",
       "      <td>PROPN</td>\n",
       "      <td>Number=Sing</td>\n",
       "      <td>Single</td>\n",
       "      <td>compound</td>\n",
       "      <td>1</td>\n",
       "      <td>Single</td>\n",
       "    </tr>\n",
       "    <tr>\n",
       "      <th>1</th>\n",
       "      <td>1</td>\n",
       "      <td>7</td>\n",
       "      <td>11</td>\n",
       "      <td>NNP</td>\n",
       "      <td>PROPN</td>\n",
       "      <td>Number=Sing</td>\n",
       "      <td>Room</td>\n",
       "      <td>nsubj</td>\n",
       "      <td>8</td>\n",
       "      <td>Room</td>\n",
       "    </tr>\n",
       "    <tr>\n",
       "      <th>2</th>\n",
       "      <td>2</td>\n",
       "      <td>11</td>\n",
       "      <td>12</td>\n",
       "      <td>,</td>\n",
       "      <td>PUNCT</td>\n",
       "      <td>PunctType=Comm</td>\n",
       "      <td>,</td>\n",
       "      <td>punct</td>\n",
       "      <td>1</td>\n",
       "      <td>,</td>\n",
       "    </tr>\n",
       "    <tr>\n",
       "      <th>3</th>\n",
       "      <td>3</td>\n",
       "      <td>13</td>\n",
       "      <td>17</td>\n",
       "      <td>IN</td>\n",
       "      <td>ADP</td>\n",
       "      <td></td>\n",
       "      <td>with</td>\n",
       "      <td>prep</td>\n",
       "      <td>1</td>\n",
       "      <td>with</td>\n",
       "    </tr>\n",
       "    <tr>\n",
       "      <th>4</th>\n",
       "      <td>4</td>\n",
       "      <td>18</td>\n",
       "      <td>21</td>\n",
       "      <td>JJ</td>\n",
       "      <td>ADJ</td>\n",
       "      <td>Degree=Pos</td>\n",
       "      <td>own</td>\n",
       "      <td>amod</td>\n",
       "      <td>5</td>\n",
       "      <td>own</td>\n",
       "    </tr>\n",
       "    <tr>\n",
       "      <th>...</th>\n",
       "      <th>...</th>\n",
       "      <td>...</td>\n",
       "      <td>...</td>\n",
       "      <td>...</td>\n",
       "      <td>...</td>\n",
       "      <td>...</td>\n",
       "      <td>...</td>\n",
       "      <td>...</td>\n",
       "      <td>...</td>\n",
       "      <td>...</td>\n",
       "      <td>...</td>\n",
       "    </tr>\n",
       "    <tr>\n",
       "      <th rowspan=\"5\" valign=\"top\">999.0</th>\n",
       "      <th>203</th>\n",
       "      <td>203</td>\n",
       "      <td>966</td>\n",
       "      <td>972</td>\n",
       "      <td>NNP</td>\n",
       "      <td>PROPN</td>\n",
       "      <td>Number=Sing</td>\n",
       "      <td>Tumble</td>\n",
       "      <td>compound</td>\n",
       "      <td>204</td>\n",
       "      <td>rth Co</td>\n",
       "    </tr>\n",
       "    <tr>\n",
       "      <th>204</th>\n",
       "      <td>204</td>\n",
       "      <td>973</td>\n",
       "      <td>978</td>\n",
       "      <td>NNP</td>\n",
       "      <td>PROPN</td>\n",
       "      <td>Number=Sing</td>\n",
       "      <td>Dryer</td>\n",
       "      <td>conj</td>\n",
       "      <td>201</td>\n",
       "      <td>mon t</td>\n",
       "    </tr>\n",
       "    <tr>\n",
       "      <th>205</th>\n",
       "      <td>205</td>\n",
       "      <td>978</td>\n",
       "      <td>979</td>\n",
       "      <td>,</td>\n",
       "      <td>PUNCT</td>\n",
       "      <td>PunctType=Comm</td>\n",
       "      <td>,</td>\n",
       "      <td>punct</td>\n",
       "      <td>204</td>\n",
       "      <td>r</td>\n",
       "    </tr>\n",
       "    <tr>\n",
       "      <th>206</th>\n",
       "      <td>206</td>\n",
       "      <td>980</td>\n",
       "      <td>987</td>\n",
       "      <td>NNP</td>\n",
       "      <td>PROPN</td>\n",
       "      <td>Number=Sing</td>\n",
       "      <td>Washing</td>\n",
       "      <td>compound</td>\n",
       "      <td>207</td>\n",
       "      <td>in stat</td>\n",
       "    </tr>\n",
       "    <tr>\n",
       "      <th>207</th>\n",
       "      <td>207</td>\n",
       "      <td>988</td>\n",
       "      <td>992</td>\n",
       "      <td>NNP</td>\n",
       "      <td>PROPN</td>\n",
       "      <td>Number=Sing</td>\n",
       "      <td>Mach</td>\n",
       "      <td>appos</td>\n",
       "      <td>195</td>\n",
       "      <td>on i</td>\n",
       "    </tr>\n",
       "  </tbody>\n",
       "</table>\n",
       "<p>173501 rows × 10 columns</p>\n",
       "</div>"
      ],
      "text/plain": [
       "                   id  start  end  tag    pos           morph    lemma  \\\n",
       "doc_id token_num                                                         \n",
       "0.0    0            0      0    6  NNP  PROPN     Number=Sing   Single   \n",
       "       1            1      7   11  NNP  PROPN     Number=Sing     Room   \n",
       "       2            2     11   12    ,  PUNCT  PunctType=Comm        ,   \n",
       "       3            3     13   17   IN    ADP                     with   \n",
       "       4            4     18   21   JJ    ADJ      Degree=Pos      own   \n",
       "...               ...    ...  ...  ...    ...             ...      ...   \n",
       "999.0  203        203    966  972  NNP  PROPN     Number=Sing   Tumble   \n",
       "       204        204    973  978  NNP  PROPN     Number=Sing    Dryer   \n",
       "       205        205    978  979    ,  PUNCT  PunctType=Comm        ,   \n",
       "       206        206    980  987  NNP  PROPN     Number=Sing  Washing   \n",
       "       207        207    988  992  NNP  PROPN     Number=Sing     Mach   \n",
       "\n",
       "                       dep  head token_str  \n",
       "doc_id token_num                            \n",
       "0.0    0          compound     1    Single  \n",
       "       1             nsubj     8      Room  \n",
       "       2             punct     1         ,  \n",
       "       3              prep     1      with  \n",
       "       4              amod     5       own  \n",
       "...                    ...   ...       ...  \n",
       "999.0  203        compound   204    rth Co  \n",
       "       204            conj   201     mon t  \n",
       "       205           punct   204         r  \n",
       "       206        compound   207   in stat  \n",
       "       207           appos   195      on i  \n",
       "\n",
       "[173501 rows x 10 columns]"
      ]
     },
     "execution_count": 26,
     "metadata": {},
     "output_type": "execute_result"
    }
   ],
   "source": [
    "corpus.TOKEN"
   ]
  },
  {
   "cell_type": "code",
   "execution_count": 31,
   "id": "2b6318b4-2ebd-4d2b-849b-87becb54395f",
   "metadata": {},
   "outputs": [],
   "source": [
    "# DOCS[0]"
   ]
  },
  {
   "cell_type": "code",
   "execution_count": null,
   "id": "23c90cbc-714c-4b1f-a834-77332355e685",
   "metadata": {},
   "outputs": [],
   "source": [
    "# annotate_corpus(UK.doc_original.astype('str').values)"
   ]
  },
  {
   "cell_type": "code",
   "execution_count": 33,
   "id": "a7ee1099-4902-40dc-ae26-dbd8222ae94a",
   "metadata": {},
   "outputs": [],
   "source": [
    "BOW = corpus.TOKEN[corpus.TOKEN.pos == 'NOUN'].value_counts(['doc_id', 'lemma']).to_frame('n').sort_index()\n",
    "BOW.index.names = ['doc_id', 'term_str']"
   ]
  },
  {
   "cell_type": "code",
   "execution_count": 34,
   "id": "9830d299-b6e0-4ebc-83c7-f97ea6f896b5",
   "metadata": {},
   "outputs": [
    {
     "data": {
      "text/html": [
       "<div>\n",
       "<style scoped>\n",
       "    .dataframe tbody tr th:only-of-type {\n",
       "        vertical-align: middle;\n",
       "    }\n",
       "\n",
       "    .dataframe tbody tr th {\n",
       "        vertical-align: top;\n",
       "    }\n",
       "\n",
       "    .dataframe thead th {\n",
       "        text-align: right;\n",
       "    }\n",
       "</style>\n",
       "<table border=\"1\" class=\"dataframe\">\n",
       "  <thead>\n",
       "    <tr style=\"text-align: right;\">\n",
       "      <th></th>\n",
       "      <th></th>\n",
       "      <th>n</th>\n",
       "    </tr>\n",
       "    <tr>\n",
       "      <th>doc_id</th>\n",
       "      <th>term_str</th>\n",
       "      <th></th>\n",
       "    </tr>\n",
       "  </thead>\n",
       "  <tbody>\n",
       "    <tr>\n",
       "      <th rowspan=\"5\" valign=\"top\">0.0</th>\n",
       "      <th>arm</th>\n",
       "      <td>1</td>\n",
       "    </tr>\n",
       "    <tr>\n",
       "      <th>basis</th>\n",
       "      <td>1</td>\n",
       "    </tr>\n",
       "    <tr>\n",
       "      <th>bath</th>\n",
       "      <td>1</td>\n",
       "    </tr>\n",
       "    <tr>\n",
       "      <th>bathroom</th>\n",
       "      <td>4</td>\n",
       "    </tr>\n",
       "    <tr>\n",
       "      <th>bedroom</th>\n",
       "      <td>2</td>\n",
       "    </tr>\n",
       "    <tr>\n",
       "      <th>...</th>\n",
       "      <th>...</th>\n",
       "      <td>...</td>\n",
       "    </tr>\n",
       "    <tr>\n",
       "      <th rowspan=\"5\" valign=\"top\">999.0</th>\n",
       "      <th>towel</th>\n",
       "      <td>1</td>\n",
       "    </tr>\n",
       "    <tr>\n",
       "      <th>tv</th>\n",
       "      <td>1</td>\n",
       "    </tr>\n",
       "    <tr>\n",
       "      <th>view</th>\n",
       "      <td>1</td>\n",
       "    </tr>\n",
       "    <tr>\n",
       "      <th>washing</th>\n",
       "      <td>1</td>\n",
       "    </tr>\n",
       "    <tr>\n",
       "      <th>window</th>\n",
       "      <td>2</td>\n",
       "    </tr>\n",
       "  </tbody>\n",
       "</table>\n",
       "<p>31265 rows × 1 columns</p>\n",
       "</div>"
      ],
      "text/plain": [
       "                 n\n",
       "doc_id term_str   \n",
       "0.0    arm       1\n",
       "       basis     1\n",
       "       bath      1\n",
       "       bathroom  4\n",
       "       bedroom   2\n",
       "...             ..\n",
       "999.0  towel     1\n",
       "       tv        1\n",
       "       view      1\n",
       "       washing   1\n",
       "       window    2\n",
       "\n",
       "[31265 rows x 1 columns]"
      ]
     },
     "execution_count": 34,
     "metadata": {},
     "output_type": "execute_result"
    }
   ],
   "source": [
    "BOW"
   ]
  },
  {
   "cell_type": "code",
   "execution_count": null,
   "id": "496d0c67-101e-46cc-a1f1-c6e8176a8870",
   "metadata": {},
   "outputs": [],
   "source": [
    "# BOW.to_csv(f\"{data_home}/output/airbnb-uk-nouns.csv\")"
   ]
  },
  {
   "cell_type": "code",
   "execution_count": null,
   "id": "6ad5bd20-8ec1-4549-b0c5-02f664eabe0d",
   "metadata": {},
   "outputs": [],
   "source": [
    "# BOW = pd.read_csv(f\"{data_home}/output/airbnb-uk-nouns.csv\").set_index(['doc_id','term_str'])"
   ]
  },
  {
   "cell_type": "code",
   "execution_count": 36,
   "id": "906f475c-e010-40ca-8228-3e83f158d06e",
   "metadata": {},
   "outputs": [],
   "source": [
    "tm_book = TopicModel(BOW)\n",
    "tm_book.n_topics = 40\n",
    "tm_book.create_X()\n",
    "tm_book.get_model()\n",
    "tm_book.describe_topics()"
   ]
  },
  {
   "cell_type": "code",
   "execution_count": null,
   "id": "2732de5b-4668-41a0-a78c-94f90dd70b09",
   "metadata": {},
   "outputs": [],
   "source": [
    "tm_book.plot_topics()"
   ]
  },
  {
   "cell_type": "markdown",
   "id": "e934fd38-64c6-4d9c-b1a9-3e4f92c76caa",
   "metadata": {},
   "source": [
    "## Appendix: Method 2"
   ]
  },
  {
   "cell_type": "code",
   "execution_count": null,
   "id": "1831a2cb-5e94-40f7-b1b4-9250572f5c3e",
   "metadata": {
    "tags": []
   },
   "outputs": [],
   "source": [
    "def annotate_corpus(docs):\n",
    "    \n",
    "    stats_package = 'en_core_web_sm'\n",
    "    nlp = spacy.load(stats_package)\n",
    "    DOCS = []\n",
    "    for doc in tqdm.tqdm(docs):\n",
    "        DOCS.append(nlp(doc).to_json())\n",
    "    features = list(DOCS[0].keys())\n",
    "\n",
    "    feature_data = {f:[] for f in features}\n",
    "    for i in range(len(DOCS)):    \n",
    "        text = DOCS[i]['text']\n",
    "        # for feature in features[1:]:\n",
    "        for feature in ['tokens']:\n",
    "            df = pd.DataFrame(DOCS[i][feature])\n",
    "            df[f'{feature[:-1]}_str'] = df.apply(lambda x: text[x.start:x.end], 1)\n",
    "            df['doc_id'] = i\n",
    "            feature_data[feature].append(df)\n",
    "            \n",
    "    TOKEN = pd.concat(feature_data['tokens'])"
   ]
  }
 ],
 "metadata": {
  "kernelspec": {
   "display_name": "Python 3 (ipykernel)",
   "language": "python",
   "name": "python3"
  },
  "language_info": {
   "codemirror_mode": {
    "name": "ipython",
    "version": 3
   },
   "file_extension": ".py",
   "mimetype": "text/x-python",
   "name": "python",
   "nbconvert_exporter": "python",
   "pygments_lexer": "ipython3",
   "version": "3.10.0"
  }
 },
 "nbformat": 4,
 "nbformat_minor": 5
}
